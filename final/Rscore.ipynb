{
 "cells": [
  {
   "cell_type": "code",
   "execution_count": 116,
   "metadata": {},
   "outputs": [],
   "source": [
    "import numpy as np\n",
    "## Qscore calculation\n",
    "def rscore(GT, GX, sigmabeta2, sigmax2):\n",
    "    nsnps = GT.shape[0]\n",
    "    nsamples = GT.shape[1]\n",
    "    ngenes = GX.shape[0]\n",
    "\n",
    "    Yt = GX.T # shape N x G\n",
    "    U, S, Vt = np.linalg.svd(Yt, full_matrices=False)\n",
    "    S2 = np.square(S)\n",
    "    S2mod = S2 + sigmax2 / sigmabeta2\n",
    "\n",
    "    ## replace this with a vector array (pythonic version)\n",
    "    Rscore = [None for i in range(nsnps)]\n",
    "    for i in range(nsnps):\n",
    "        Rscore[i] = np.sum(np.square(np.dot(U.T, GT[i,:])) * S2 / S2mod)\n",
    "    Rscore = np.array(Rscore)\n",
    "\n",
    "    return Rscore\n",
    "\n",
    "import numpy as np\n",
    "## Qscore calculation\n",
    "def vectorised_rscore(GT, GX, sigmabeta2, sigmax2):\n",
    "    nsnps = GT.shape[0]\n",
    "    nsamples = GT.shape[1]\n",
    "    ngenes = GX.shape[0]\n",
    "\n",
    "    Yt = GX.T # shape N x G\n",
    "    U, S, Vt = np.linalg.svd(Yt, full_matrices=False)\n",
    "    S2 = np.square(S)\n",
    "    S2mod = S2 + sigmax2 / sigmabeta2\n",
    "\n",
    "    ## replace this with a vector array (pythonic version)\n",
    "    Rscore = np.sum(np.square(np.dot(GT,U))*(S2/S2mod),axis = 1)\n",
    "    return Rscore"
   ]
  },
  {
   "cell_type": "code",
   "execution_count": 117,
   "metadata": {},
   "outputs": [],
   "source": [
    "GT = np.array([[0,1],[2,1],[0,0],[1,0]])"
   ]
  },
  {
   "cell_type": "code",
   "execution_count": 118,
   "metadata": {},
   "outputs": [
    {
     "data": {
      "text/plain": [
       "(4, 2)"
      ]
     },
     "execution_count": 118,
     "metadata": {},
     "output_type": "execute_result"
    }
   ],
   "source": [
    "GT.shape"
   ]
  },
  {
   "cell_type": "code",
   "execution_count": 119,
   "metadata": {},
   "outputs": [],
   "source": [
    "GX = np.array([[0.5,0.9],[0.4,0.6],[0.2,0.2]])"
   ]
  },
  {
   "cell_type": "code",
   "execution_count": 120,
   "metadata": {},
   "outputs": [
    {
     "data": {
      "text/plain": [
       "array([[0.5, 0.9],\n",
       "       [0.4, 0.6],\n",
       "       [0.2, 0.2]])"
      ]
     },
     "execution_count": 120,
     "metadata": {},
     "output_type": "execute_result"
    }
   ],
   "source": [
    "GX"
   ]
  },
  {
   "cell_type": "code",
   "execution_count": 121,
   "metadata": {},
   "outputs": [
    {
     "data": {
      "text/plain": [
       "(3, 2)"
      ]
     },
     "execution_count": 121,
     "metadata": {},
     "output_type": "execute_result"
    }
   ],
   "source": [
    "GX.shape"
   ]
  },
  {
   "cell_type": "code",
   "execution_count": 122,
   "metadata": {},
   "outputs": [
    {
     "data": {
      "text/plain": [
       "array([0.01886194, 0.09243938, 0.        , 0.00701659])"
      ]
     },
     "execution_count": 122,
     "metadata": {},
     "output_type": "execute_result"
    }
   ],
   "source": [
    "rscore(GT,GX,0.016,1)"
   ]
  },
  {
   "cell_type": "code",
   "execution_count": 123,
   "metadata": {},
   "outputs": [
    {
     "data": {
      "text/plain": [
       "array([0.01886194, 0.09243938, 0.        , 0.00701659])"
      ]
     },
     "execution_count": 123,
     "metadata": {},
     "output_type": "execute_result"
    }
   ],
   "source": [
    "vectorised_rscore(GT,GX,0.016,1)"
   ]
  },
  {
   "cell_type": "code",
   "execution_count": 124,
   "metadata": {},
   "outputs": [
    {
     "data": {
      "text/plain": [
       "(4,)"
      ]
     },
     "execution_count": 124,
     "metadata": {},
     "output_type": "execute_result"
    }
   ],
   "source": [
    "rscore(GT,GX,0.016,1).shape"
   ]
  },
  {
   "cell_type": "code",
   "execution_count": 115,
   "metadata": {},
   "outputs": [
    {
     "data": {
      "text/plain": [
       "(4,)"
      ]
     },
     "execution_count": 115,
     "metadata": {},
     "output_type": "execute_result"
    }
   ],
   "source": [
    "vectorised_rscore(GT,GX,0.016,1).shape"
   ]
  },
  {
   "cell_type": "code",
   "execution_count": null,
   "metadata": {},
   "outputs": [],
   "source": []
  }
 ],
 "metadata": {
  "kernelspec": {
   "display_name": "Python 3",
   "language": "python",
   "name": "python3"
  },
  "language_info": {
   "codemirror_mode": {
    "name": "ipython",
    "version": 3
   },
   "file_extension": ".py",
   "mimetype": "text/x-python",
   "name": "python",
   "nbconvert_exporter": "python",
   "pygments_lexer": "ipython3",
   "version": "3.6.4"
  }
 },
 "nbformat": 4,
 "nbformat_minor": 2
}
