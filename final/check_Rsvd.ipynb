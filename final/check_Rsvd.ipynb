{
 "cells": [
  {
   "cell_type": "code",
   "execution_count": 2,
   "metadata": {},
   "outputs": [],
   "source": [
    "import numpy as np\n",
    "import ctypes\n",
    "from scipy.stats import chi2\n",
    "from statsmodels.sandbox.stats.multicomp import fdrcorrection_twostage as fdr\n",
    "import os\n",
    "import argparse\n",
    "import time\n",
    "import matplotlib.pyplot as plt\n",
    "from iotools.dosageparser import DosageParser\n",
    "from iotools.readVCF import ReadVCF \n",
    "from scipy.optimize import minimize\n",
    "from scipy.special import erfinv\n",
    "from inference.regulizer_optimizer import OptimizeRegularizer\n",
    "from select_genes_per_snp import linear_reg\n",
    "#from qqplot import plot_hist_qq"
   ]
  },
  {
   "cell_type": "code",
   "execution_count": 3,
   "metadata": {},
   "outputs": [],
   "source": [
    "def read_expression(filename):\n",
    "    gene_names = list()\n",
    "    expression = list()\n",
    "    with open(filename, 'r') as genefile:\n",
    "        header = genefile.readline()\n",
    "        donorids = header.strip().split(\"\\t\")[1:]\n",
    "        for line in genefile:\n",
    "            linesplit = line.strip().split(\"\\t\")\n",
    "            expression.append(np.array(linesplit[1:], dtype=float))\n",
    "            gene_names.append(linesplit[0])\n",
    "    expression = np.array(expression)\n",
    "    return donorids, expression, gene_names\n",
    "\n",
    "\n",
    "'''def norm_binom(genotype, f):\n",
    "    genotype = (genotype - (2 * f)) / np.sqrt(2 * f * (1 - f))\n",
    "    return genotype\n",
    "'''\n",
    "\n",
    "def parse_geno (genotype_filename, sample_filename, startsnp, endsnp):                              #Read genotype here\n",
    "    ds        = DosageParser(genotype_filename, sample_filename, startsnp, endsnp)\n",
    "    dosage    = ds.dosage\n",
    "    snpinfo   = ds.snpinfo\n",
    "    donorids  = ds.sample_id\n",
    "    nsnps     = ds.nsnps\n",
    "    nsample   = ds.nsample\n",
    "    return dosage, snpinfo, donorids, nsnps, nsample\n",
    "\n",
    "                                                                                                    #quality check, matching\n",
    "def quality_check ( sampleids, donorids):\n",
    "    choose_ids     = [x for x in sampleids if x in donorids]\n",
    "    dosage_indices = [i for i, x in enumerate(donorids)  if x in choose_ids]\n",
    "    exprsn_indices = [i for i, x in enumerate(sampleids) if x in choose_ids]\n",
    "    return dosage_indices, exprsn_indices\n",
    "\n",
    "def read_distance(filename):\n",
    "    samplelist = list()\n",
    "    distances = list()\n",
    "    with open(filename, 'r') as mfile:\n",
    "        mfile.readline()\n",
    "        for line in mfile:\n",
    "            linestrip = line.strip().split(\"\\t\")\n",
    "            samplelist.append(linestrip[0])\n",
    "            distances.append(np.array(linestrip[1:],dtype=float))\n",
    "    return np.array(distances), samplelist"
   ]
  },
  {
   "cell_type": "code",
   "execution_count": 21,
   "metadata": {},
   "outputs": [],
   "source": [
    "#out_fileprefix      = \n",
    "genotype_filename   = \"data/geno/GTEx_450Indiv_genot_imput_info04_maf01_HWEp1E6_dbSNP135IDs_donorIDs_dosage_chr1.gz\"\n",
    "sample_filename     = \"data/geno/donor_ids.fam\"\n",
    "#expression_filename = \"PCA_KNN_Correction/main/expr.txt\"\n",
    "expression_filename = \"data/expressions/GTEx_wholeBlood_Normalzed_NoPEER_lmcorrected.txt\"\n",
    "\n",
    "startsnp            = 1\n",
    "endsnp              = 150000\n",
    "optim               = 0\n",
    "user_sigbeta        = 0.001636581825407\n",
    "#transgeno           = opts.trans_genofile"
   ]
  },
  {
   "cell_type": "code",
   "execution_count": 22,
   "metadata": {},
   "outputs": [],
   "source": [
    "sampleids, expression, gene_names = read_expression(expression_filename)"
   ]
  },
  {
   "cell_type": "code",
   "execution_count": 26,
   "metadata": {},
   "outputs": [],
   "source": [
    "sigbeta = user_sigbeta\n",
    "\n",
    "\n",
    "tic = time.time()\n",
    "print (\"\\nReading Genotype\")\n",
    "dosage, snpinfo, donorids, nsnps, nsample = parse_geno ( genotype_filename, sample_filename, startsnp, endsnp)\n",
    "dosage_indices, exprsn_indices = quality_check (sampleids , donorids)\n",
    "conv_dosage = np.round(dosage)                                                                      #Best performance if dosages are rounded off\n",
    "geno        = conv_dosage[:, dosage_indices]                                                    \n",
    "#freq        = np.array([x.freq for x in snpinfo])\n",
    "geno = ((geno.T - np.mean(geno.T,axis = 0)) / np.std(geno.T,axis = 0)).T\n",
    "\n",
    "expr  = expression[:, exprsn_indices]\n",
    "                                                                                                    # SXN\n",
    "print (\"Completed data loading and processing\\n\")\n",
    "\n",
    "##################################################################################    \n",
    "# choose_ids = [x for x in sampleids if x in donorids]\n",
    "# distance, sample = read_distance(\"PCA_KNN_Correction/main/sample_distance_matrix.csv\")\n",
    "# distance_matrix = distance[exprsn_indices,:][:,exprsn_indices]\n",
    "\n",
    "# k=12\n",
    " \n",
    "\n",
    "# corrected_geno = np.zeros_like(geno)\n",
    "# for i,j in enumerate(choose_ids):\n",
    "#     distances = distance_matrix[i,:]\n",
    "#     neighbors =np.argsort(distances)[: k+1]\n",
    "#     corrected_geno[:, i] = geno[:, i] - np.mean(geno[:, neighbors[1:]], axis = 1)\n",
    "\n",
    "# geno = corrected_geno\n",
    "# geno = ((geno.T - np.mean(geno.T,axis = 0)) / np.std(geno.T,axis = 0)).T\n",
    "#####################################################################################\n",
    "\n",
    "\n",
    "ori_shuffled_genom = geno.copy()\n",
    "for i in range(ori_shuffled_genom.shape[0]):\n",
    "    idx = np.random.permutation(np.arange(0,ori_shuffled_genom.shape[1]))\n",
    "    np.random.shuffle(idx)\n",
    "    ori_shuffled_genom[i,:] = ori_shuffled_genom[i,idx]\n",
    "                                                                                                    #randoms = np.random.choice(geno.shape[0], 30000)\n",
    "                                                                                                    #genos = geno[randoms,:]\n",
    "genotype = ori_shuffled_genom\n",
    "#Calculate Qscores here\n",
    "sigma_geno = 1\n",
    "U, S, V_t = np.linalg.svd(np.transpose(expr),full_matrices=False)                                   #, Check this\n",
    "fact = sigma_geno**2 / sigbeta**2\n",
    "diagw = np.square(S) / (np.square(S) + fact)\n",
    "Wsvd = np.dot(U, np.dot(np.diag(diagw), U.T))                                                       # Reverse because in the methods\n",
    "Rsvd  = np.diag(np.dot(genotype, np.dot(Wsvd,  genotype.T)))                                        # geno should be SNP X Sample\n",
    "\n",
    "                                                                                                    #Inference parameters\n",
    "\n"
   ]
  },
  {
   "cell_type": "code",
   "execution_count": 38,
   "metadata": {},
   "outputs": [
    {
     "name": "stdout",
     "output_type": "stream",
     "text": [
      "11.557159701983133\n"
     ]
    }
   ],
   "source": [
    "############ after update on 22 May 2018 ##############\n",
    "\n",
    "Rmean    = np.sum(diagw)\n",
    "#Rvar     = 2*(np.sum(np.square(diagw))) + (np.mean(genotype**4, axis = 1) - 3) * np.sum(np.square(np.diag(Wsvd)))\n",
    "Rvar = (np.sum(np.sum(Wsvd**2))) + (np.mean(genotype**4, axis = 1) - 2) * np.sum(np.square(np.diag(Wsvd)))\n",
    "alpha    = Rvar / (2 * Rmean)\n",
    "f_degree = Rmean / alpha\n",
    "Rsvd_scaled = (Rsvd - Rmean) / np.sqrt(Rvar)\n",
    "pval_R = 1 - chi2.cdf(Rsvd/alpha,f_degree)\n",
    "\n",
    "\n",
    "toc = time.time()\n",
    "print((toc - tic)/60)"
   ]
  },
  {
   "cell_type": "code",
   "execution_count": 66,
   "metadata": {},
   "outputs": [],
   "source": [
    "from scipy import special\n",
    "from scipy.stats import norm\n",
    "from scipy.stats import chi2\n",
    "from scipy.stats import uniform\n",
    "from scipy.stats.mstats import mquantiles\n",
    "\n",
    "\n",
    "def normal_quantile_plot(data, mu = 0, sigma = 1):\n",
    "    y = data[np.argsort(data)]\n",
    "    mq = (np.arange(y.shape[0] + 2) / (y.shape[0] + 1))[1:-1]\n",
    "    x = mu + sigma * np.sqrt(2) * special.erfinv(2 * mq - 1) # qunatile function for normal distribution (see wiki)\n",
    "    return x, y\n",
    "\n",
    "def uniform_quantile_plot(data, a = 0, b = 1):\n",
    "    y = data[np.argsort(data)]\n",
    "    mq = (np.arange(y.shape[0] + 2) / (y.shape[0] + 1))[1:-1]\n",
    "    x = a + mq * (b - a) # quantile function for uniform distribution: a + p(b - a)\n",
    "    return x, y\n",
    "\n",
    "def chisquare_quantile_plot(data):\n",
    "    y = data[np.argsort(data)]\n",
    "    mq = (np.arange(y.shape[0] + 2) / (y.shape[0] + 1))[1:-1]\n",
    "    x = 2 * np.square(special.erfinv(mq)) # quantile function for chisq distribution\n",
    "    return x, y\n",
    "\n",
    "def plot_hist_qq(ax1, ax2, data, nbins, dist, loc = 0, scale = 1):\n",
    "    n = data.shape[0]\n",
    "    xmin = np.min(data)\n",
    "    xmax = np.max(data)\n",
    "    bins = np.linspace(xmin, xmax, nbins)\n",
    "    xvals = [(bins[i] + bins[i+1]) / 2 for i in range(nbins - 1)]\n",
    "    h, _ = np.histogram(data, bins=bins, density=True)\n",
    "    ax1.fill_between(xvals, h, 0, color='blue', alpha = 0.2)\n",
    "\n",
    "    xvals = np.linspace(xmin, xmax, n)\n",
    "    if dist == 'normal':\n",
    "        yvals = norm.pdf(xvals, loc = loc, scale = scale)\n",
    "        x, y = normal_quantile_plot(data)\n",
    "    elif dist == 'uniform':\n",
    "        yvals = uniform.pdf(xvals, loc = loc, scale = scale)\n",
    "        x, y = uniform_quantile_plot(data)\n",
    "        x = - np.log10(x)\n",
    "        y = - np.log10(y)\n",
    "        xmin = -np.log10(xmin)\n",
    "        xmax = -np.log10(xmax)\n",
    "    elif dist == 'chisq':\n",
    "        # always df = 1 (quantile function derived under the condition df = 1)\n",
    "        yvals = chi2.pdf(xvals, 1.018)\n",
    "        x, y = chisquare_quantile_plot(data)\n",
    "    else:\n",
    "        print (\"No distribution found with name {:s}\".format(dist))\n",
    "    print(xvals)\n",
    "    ax1.plot(xvals, yvals, lw = 4, color='blue')\n",
    "    print(xmin, xmax)\n",
    "\n",
    "    ax2.plot([xmin, xmax], [xmin, xmax], lw = 2, ls = 'dashed', color='gray')\n",
    "    ax2.scatter(x, y, s = 10, color='red', alpha = 0.5)\n",
    "\n",
    "    ax1.set_xlabel('x', {'size': 15}, labelpad = 10)\n",
    "    ax1.set_ylabel('Probability density function', {'size': 15}, labelpad = 10)\n",
    "\n",
    "    ax2.set_xlabel('Expected', {'size': 15}, labelpad = 10)\n",
    "    ax2.set_ylabel('Observed', {'size': 15}, labelpad = 10)\n",
    "\n",
    "    return None"
   ]
  },
  {
   "cell_type": "code",
   "execution_count": 67,
   "metadata": {},
   "outputs": [
    {
     "name": "stdout",
     "output_type": "stream",
     "text": [
      "[-2.84385004 -2.84363855 -2.84342705 ...  8.28793676  8.28814825\n",
      "  8.28835975]\n",
      "-2.8438500442652757 8.288359752503139\n",
      "[2.56322741e-11 1.89858295e-05 3.79716333e-05 ... 9.99279813e-01\n",
      " 9.99298799e-01 9.99317785e-01]\n",
      "10.591212861742706 0.0002963835191772602\n"
     ]
    },
    {
     "data": {
      "image/png": "[encoded data removed]",
      "text/plain": [
       "<matplotlib.figure.Figure at 0x7f2cad2db588>"
      ]
     },
     "metadata": {},
     "output_type": "display_data"
    }
   ],
   "source": [
    "fig = plt.figure(figsize = (10, 10))\n",
    "ax1 = fig.add_subplot(221)\n",
    "ax2 = fig.add_subplot(222)\n",
    "ax3 = fig.add_subplot(223)\n",
    "ax4 = fig.add_subplot(224)\n",
    "\n",
    "nbins = 50\n",
    "mu = np.mean(Rsvd_scaled)\n",
    "plot_hist_qq(ax1, ax2, Rsvd_scaled, nbins, dist = 'normal', loc = 0, scale = 1)\n",
    "#plot_hist_qq(ax1, ax2, Rsvd_scaled, nbins, dist = 'chisq', loc = 0, scale = 1)\n",
    "plot_hist_qq(ax3, ax4, pval_R, nbins,dist = 'uniform', loc = 0, scale = 1)\n",
    "\n",
    "\n",
    "plt.tight_layout()\n",
    "plt.show()"
   ]
  },
  {
   "cell_type": "code",
   "execution_count": 68,
   "metadata": {},
   "outputs": [
    {
     "data": {
      "text/plain": [
       "array([-7.35769105e-17, -5.25549361e-18,  1.10365366e-16, ...,\n",
       "        1.20876353e-16, -4.20439489e-17, -2.62774680e-17])"
      ]
     },
     "execution_count": 68,
     "metadata": {},
     "output_type": "execute_result"
    }
   ],
   "source": [
    "np.mean(genotype.T, axis = 0)"
   ]
  },
  {
   "cell_type": "code",
   "execution_count": 69,
   "metadata": {},
   "outputs": [
    {
     "data": {
      "text/plain": [
       "array([1., 1., 1., ..., 1., 1., 1.])"
      ]
     },
     "execution_count": 69,
     "metadata": {},
     "output_type": "execute_result"
    }
   ],
   "source": [
    "np.std(genotype.T, axis = 0)"
   ]
  },
  {
   "cell_type": "code",
   "execution_count": 52,
   "metadata": {},
   "outputs": [
    {
     "data": {
      "text/plain": [
       "1.1401457491932803"
      ]
     },
     "execution_count": 52,
     "metadata": {},
     "output_type": "execute_result"
    }
   ],
   "source": [
    "np.std(Rsvd_scaled)"
   ]
  },
  {
   "cell_type": "code",
   "execution_count": 62,
   "metadata": {},
   "outputs": [
    {
     "data": {
      "text/plain": [
       "1.0186046665225321"
      ]
     },
     "execution_count": 62,
     "metadata": {},
     "output_type": "execute_result"
    }
   ],
   "source": [
    "np.mean(Rsvd_scaled[np.where(Rsvd_scaled >= 0)])"
   ]
  },
  {
   "cell_type": "code",
   "execution_count": 61,
   "metadata": {},
   "outputs": [
    {
     "data": {
      "text/plain": [
       "array([    3,     8,     9, ..., 52629, 52630, 52633])"
      ]
     },
     "execution_count": 61,
     "metadata": {},
     "output_type": "execute_result"
    }
   ],
   "source": [
    "np.where(Rsvd_scaled >= 0)[0]"
   ]
  },
  {
   "cell_type": "code",
   "execution_count": null,
   "metadata": {},
   "outputs": [],
   "source": []
  }
 ],
 "metadata": {
  "kernelspec": {
   "display_name": "Python 3",
   "language": "python",
   "name": "python3"
  },
  "language_info": {
   "codemirror_mode": {
    "name": "ipython",
    "version": 3
   },
   "file_extension": ".py",
   "mimetype": "text/x-python",
   "name": "python",
   "nbconvert_exporter": "python",
   "pygments_lexer": "ipython3",
   "version": "3.6.4"
  }
 },
 "nbformat": 4,
 "nbformat_minor": 2
}
