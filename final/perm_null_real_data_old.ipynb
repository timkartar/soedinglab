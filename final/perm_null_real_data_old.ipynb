{
 "cells": [
  {
   "cell_type": "code",
   "execution_count": 1,
   "metadata": {},
   "outputs": [],
   "source": [
    "import numpy as np\n",
    "import ctypes\n",
    "from scipy.stats import chi2\n",
    "from statsmodels.sandbox.stats.multicomp import fdrcorrection_twostage as fdr\n",
    "import os\n",
    "import argparse\n",
    "import time\n",
    "import matplotlib.pyplot as plt\n",
    "from iotools.dosageparser import DosageParser\n",
    "from iotools.readVCF import ReadVCF \n",
    "from scipy.optimize import minimize\n",
    "from scipy.special import erfinv\n",
    "from inference.perm_regulizer_optimizer import OptimizeRegularizer\n",
    "#from inference.per_snp_optimiser import OptimizeRegularizer\n",
    "from select_genes_per_snp import linear_reg\n",
    "import regstat\n",
    "import regnull\n",
    "import hist_qq\n",
    "#from qqplot import plot_hist_qq"
   ]
  },
  {
   "cell_type": "code",
   "execution_count": 2,
   "metadata": {},
   "outputs": [],
   "source": [
    "def read_expression(filename):\n",
    "    gene_names = list()\n",
    "    expression = list()\n",
    "    with open(filename, 'r') as genefile:\n",
    "        header = genefile.readline()\n",
    "        donorids = header.strip().split(\"\\t\")[1:]\n",
    "        for line in genefile:\n",
    "            linesplit = line.strip().split(\"\\t\")\n",
    "            expression.append(np.array(linesplit[1:], dtype=float))\n",
    "            gene_names.append(linesplit[0])\n",
    "    expression = np.array(expression)\n",
    "    return donorids, expression, gene_names\n",
    "\n",
    "\n",
    "'''def norm_binom(genotype, f):\n",
    "    genotype = (genotype - (2 * f)) / np.sqrt(2 * f * (1 - f))\n",
    "    return genotype\n",
    "'''\n",
    "\n",
    "def parse_geno (genotype_filename, sample_filename, startsnp, endsnp):                              #Read genotype here\n",
    "    ds        = DosageParser(genotype_filename, sample_filename, startsnp, endsnp)\n",
    "    dosage    = ds.dosage\n",
    "    snpinfo   = ds.snpinfo\n",
    "    donorids  = ds.sample_id\n",
    "    nsnps     = ds.nsnps\n",
    "    nsample   = ds.nsample\n",
    "    return dosage, snpinfo, donorids, nsnps, nsample\n",
    "\n",
    "                                                                                                    #quality check, matching\n",
    "def quality_check ( sampleids, donorids):\n",
    "    choose_ids     = [x for x in sampleids if x in donorids]\n",
    "    dosage_indices = [donorids.index(i) for i in choose_ids]\n",
    "    exprsn_indices = [sampleids.index(i) for i in choose_ids]\n",
    "    return dosage_indices, exprsn_indices\n",
    "\n",
    "def read_distance(filename):\n",
    "    samplelist = list()\n",
    "    distances = list()\n",
    "    with open(filename, 'r') as mfile:\n",
    "        mfile.readline()\n",
    "        for line in mfile:\n",
    "            linestrip = line.strip().split(\"\\t\")\n",
    "            samplelist.append(linestrip[0])\n",
    "            distances.append(np.array(linestrip[1:],dtype=float))\n",
    "    return np.array(distances), samplelist"
   ]
  },
  {
   "cell_type": "code",
   "execution_count": 3,
   "metadata": {},
   "outputs": [],
   "source": [
    "#out_fileprefix      = \n",
    "genotype_filename   = \"data/geno/GTEx_450Indiv_genot_imput_info04_maf01_HWEp1E6_dbSNP135IDs_donorIDs_dosage_chr1.gz\"\n",
    "sample_filename     = \"data/geno/donor_ids.fam\"\n",
    "#expression_filename = \"PCA_KNN_Correction/main/expr25.txt\"\n",
    "expression_filename = \"Whole_Blood_Analysis.v6p.normalized.expression.txt\"\n",
    "\n",
    "startsnp            = 1\n",
    "endsnp              = 2000\n",
    "optim               = 0\n",
    "user_sigbeta        = 0.001636581825407\n",
    "transgeno           = \"data/GTEx_450Indiv_genot_imput_info04_maf01_HWEp1E6_dbSNP135IDs_donorIDs_dosage_filteredTEJAAS_transeqtls.gz\"#opts.trans_genofile"
   ]
  },
  {
   "cell_type": "code",
   "execution_count": 4,
   "metadata": {},
   "outputs": [
    {
     "name": "stdout",
     "output_type": "stream",
     "text": [
      "\n",
      "==================================================\n",
      "low maf  poly alleles  complement alleles \n",
      "\n",
      "940   170   270 \n",
      "\n",
      "Total SNPs read in :  2000\n",
      "Total SNPs remained :  620\n",
      "==================================================\n",
      "\n",
      "Completed data loading and processing\n",
      "\n"
     ]
    }
   ],
   "source": [
    "sampleids, expression, gene_names = read_expression(expression_filename)\n",
    "dosage, snpinfo, donorids, nsnps, nsample = parse_geno ( genotype_filename, sample_filename, startsnp, endsnp)\n",
    "dosage_indices, exprsn_indices = quality_check (sampleids , donorids)\n",
    "conv_dosage = np.round(dosage)\n",
    "expr = expression[:, exprsn_indices]\n",
    "#expr = np.random.normal(0, 1, 23973 * 338).reshape(23973, 338)\n",
    "geno = conv_dosage[:, dosage_indices]\n",
    "expr = (expr - np.mean(expr, axis = 1).reshape(-1, 1)) / np.std(expr, axis = 1).reshape(-1, 1)\n",
    "geno = (geno.T - np.mean(geno.T,axis = 0)).T\n",
    "print (\"Completed data loading and processing\\n\")"
   ]
  },
  {
   "cell_type": "code",
   "execution_count": 5,
   "metadata": {},
   "outputs": [],
   "source": [
    "def permuted_dosage(expr, nsnp = 5000, fmin = 0.1, fmax = 0.9, maketest = False):\n",
    "\n",
    "    f = np.random.uniform(fmin, fmax, nsnp)\n",
    "    if maketest:\n",
    "        f = np.repeat(0.1, nsnp)\n",
    "    nsample = expr.shape[1]\n",
    "\n",
    "    dosage = np.zeros((nsnp, nsample))\n",
    "    for i in range(nsnp):\n",
    "        if maketest:\n",
    "            nfreq = np.array([[279,  54,   5]])[0]\n",
    "        else:\n",
    "            mafratios = np.array([(1 - f[i])**2, 2 * f[i] * (1 - f[i]), f[i]**2])\n",
    "            nfreq  = np.random.multinomial(nsample, mafratios, size=1)[0]\n",
    "        f1 = np.repeat(0, nfreq[0])\n",
    "        f2 = np.repeat(1, nfreq[1])\n",
    "        f3 = np.repeat(2, nfreq[2])\n",
    "        x  = np.concatenate((f1,f2,f3))\n",
    "        dosage[i, :] = np.random.permutation(x)\n",
    "\n",
    "    maf2d = f.reshape(-1, 1)\n",
    "    gtnorm = (dosage - (2 * maf2d)) / np.sqrt(2 * maf2d * (1 - maf2d))\n",
    "    gtcent = dosage - np.mean(dosage, axis = 1).reshape(-1, 1)\n",
    "\n",
    "    return gtnorm, gtcent\n",
    "\n",
    "\n",
    "def expression(gt, gx, beta, cfrac = 0.001):\n",
    "\n",
    "    ntrans  = gt.shape[0]\n",
    "    ngene   = gx.shape[0]\n",
    "    nsample = gx.shape[1]\n",
    "\n",
    "    liabilities = np.zeros((ngene, nsample))\n",
    "    cindex = np.zeros((ntrans, ngene))                                           # Index matrix of gene / trans-eQTLs pairs\n",
    "    nc  = np.random.gamma(ngene * cfrac, scale = 1.0, size = ntrans).astype(int) # number of target genes for each trans-eQTL\n",
    "    for i in range(ntrans):\n",
    "        ncausal = min(ngene, nc[i])                                              # do something better, trans-eQTLs cannot target all genes\n",
    "        choose = np.random.choice(ngene, ncausal, replace = False)\n",
    "        cindex[i, choose] = 1                                                    # mark these genes as causal\n",
    "\n",
    "    gtarget = list()\n",
    "\n",
    "    for i in range(ngene):\n",
    "        csnps = np.where(cindex[:, i] == 1)[0]\n",
    "        if csnps.shape[0] > 0: # then we got a trans-eQTL\n",
    "            betas = np.random.normal(0, beta, size = csnps.shape[0])\n",
    "            #betas *= np.sqrt( H2[i] / np.sum(np.square(beta)) )\n",
    "            liabilities[i, :] = np.dot(gt[csnps, :].T, betas)\n",
    "            gtarget.append(i)\n",
    "\n",
    "    newGX = gx + liabilities\n",
    "    newGX = (newGX - np.mean(newGX, axis = 1).reshape(-1, 1)) / np.std(newGX, axis = 1).reshape(-1, 1)\n",
    "    return newGX, nc"
   ]
  },
  {
   "cell_type": "code",
   "execution_count": 6,
   "metadata": {},
   "outputs": [],
   "source": [
    "### Simulation of data\n",
    "\n",
    "ngenes = 500\n",
    "nsamples = 200\n",
    "nsnps = 100\n",
    "true_sigmabeta = 5.0#0.0006\n",
    "nmin = 1\n",
    "cfrac = 1\n",
    "nmax = int(ngenes)\n",
    "ncausal = np.random.randint(nmin, nmax, nsnps)\n",
    "fmin = 0.1\n",
    "fmax = 0.5\n",
    "ntrans = 20\n",
    "\n",
    "Y = np.random.randn(ngenes * nsamples).reshape(ngenes, nsamples)\n",
    "\n",
    "gtnorm, gtcent = permuted_dosage(Y, nsnp = nsnps, fmin = fmin, fmax = fmax)\n",
    "       \n",
    "# Trans-eQTL\n",
    "if ntrans > 0:\n",
    "    newgx,  nc = expression(gtnorm[-ntrans:, :], Y, beta=true_sigmabeta, cfrac = cfrac)\n",
    "Y = newgx"
   ]
  },
  {
   "cell_type": "code",
   "execution_count": 7,
   "metadata": {
    "scrolled": true
   },
   "outputs": [
    {
     "name": "stdout",
     "output_type": "stream",
     "text": [
      "\n",
      "Sigma beta optimization started. Reading from the provided trans-genotype file.\n",
      "optimizing...\n",
      "[59841.19757419]\n",
      "[59841.19785982]\n",
      "[59841.19757419]\n",
      "[41796.77137179]\n",
      "[41796.77137179]\n",
      "[41796.77160685]\n",
      "[0.599]\n",
      "[24079.6119169]\n",
      "[24079.6119169]\n",
      "[24079.61195275]\n",
      "[-1.7116633]\n",
      "[23148.36660224]\n",
      "[23148.36660224]\n",
      "[23148.36663373]\n",
      "[-2.1275322]\n",
      "[21416.2786045]\n",
      "[21416.2786045]\n",
      "[21416.27863084]\n",
      "[-3.0175844]\n",
      "[20086.64434571]\n",
      "[20086.64434571]\n",
      "[20086.6443383]\n",
      "[-4.99704573]\n",
      "[19930.91257826]\n",
      "[19930.91257826]\n",
      "[19930.91257609]\n",
      "[-4.56239356]\n",
      "[19927.33117908]\n",
      "[19927.33117908]\n",
      "[19927.33118078]\n",
      "[-4.38224143]\n",
      "[19923.19344773]\n",
      "[19923.19344773]\n",
      "[19923.19344799]\n",
      "[-4.44564849]\n",
      "[19923.09327305]\n",
      "[19923.09327305]\n",
      "[19923.09327305]\n",
      "[-4.45693425]\n",
      "[19923.09317241]\n",
      "[19923.09317241]\n",
      "[19923.09317241]\n",
      "[-4.45730144]\n",
      "[19923.0931724]\n",
      "[19923.0931724]\n",
      "[19923.0931724]\n",
      "[-4.45730393]\n",
      "[19923.0931724]\n",
      "[19923.0931724]\n",
      "[19923.0931724]\n",
      "[19923.0931724]\n",
      "[19923.0931724]\n",
      "[19923.0931724]\n",
      "[19923.0931724]\n",
      "[19923.0931724]\n",
      "[19923.0931724]\n",
      "[19923.0931724]\n",
      "[19923.0931724]\n",
      "[19923.0931724]\n",
      "[19923.0931724]\n",
      "[19923.0931724]\n",
      "[19923.0931724]\n",
      "[19923.0931724]\n",
      "[19923.0931724]\n",
      "[19923.0931724]\n",
      "[19923.0931724]\n",
      "[19923.0931724]\n",
      "[19923.0931724]\n",
      "[19923.0931724]\n",
      "[19923.0931724]\n",
      "[19923.0931724]\n",
      "[19923.0931724]\n",
      "[19923.0931724]\n",
      "[19923.0931724]\n",
      "[19923.0931724]\n",
      "[19923.0931724]\n",
      "[19923.0931724]\n",
      "[19923.0931724]\n",
      "[19923.0931724]\n",
      "[19923.0931724]\n",
      "[19923.0931724]\n",
      "[19923.0931724]\n",
      "[19923.0931724]\n",
      "[-4.45730414]\n",
      "Optimization terminated successfully.\n",
      "         Current function value: 19923.093172\n",
      "         Iterations: 12\n",
      "         Function evaluations: 72\n",
      "         Gradient evaluations: 24\n",
      "current sigmabeta 0.011593575833406849\n",
      "optimizing...\n",
      "[19923.0931724]\n",
      "[19923.0931724]\n",
      "[19923.0931724]\n",
      "[19923.09426865]\n",
      "[19923.09426865]\n",
      "[19923.09426868]\n",
      "[19923.0931724]\n",
      "[19923.0931724]\n",
      "[19923.0931724]\n",
      "[19923.0931724]\n",
      "[19923.0931724]\n",
      "[19923.0931724]\n",
      "[19923.0931724]\n",
      "[19923.0931724]\n",
      "[19923.0931724]\n",
      "[19923.0931724]\n",
      "[19923.0931724]\n",
      "[19923.0931724]\n",
      "[19923.0931724]\n",
      "[19923.0931724]\n",
      "[19923.0931724]\n",
      "[-4.45730407]\n",
      "[19923.0931724]\n",
      "[19923.0931724]\n",
      "[19923.0931724]\n",
      "[19923.0931724]\n",
      "[19923.0931724]\n",
      "[19923.0931724]\n",
      "[19923.0931724]\n",
      "[19923.0931724]\n",
      "[19923.0931724]\n",
      "[19923.0931724]\n",
      "[19923.0931724]\n",
      "[19923.0931724]\n",
      "[-4.45730411]\n",
      "[19923.0931724]\n",
      "Warning: Desired error not necessarily achieved due to precision loss.\n",
      "         Current function value: 19923.093172\n",
      "         Iterations: 2\n",
      "         Function evaluations: 34\n",
      "         Gradient evaluations: 11\n",
      "current sigmabeta 0.01159357619627509\n",
      "Sigma beta optimization completed in : 22.06315541267395 seconds\n",
      "\n",
      "Optimized sigma beta value is: 0.01159357619627509 \n",
      "\n"
     ]
    }
   ],
   "source": [
    "optim = True\n",
    "if optim:\n",
    "    print (\"\\nSigma beta optimization started. Reading from the provided trans-genotype file.\")\n",
    "    tic = time.time()\n",
    "    try:\n",
    "\n",
    "        #optimize_sigbeta   = OptimizeRegularizer(geno[:10], expr, sigmax = np.std(geno[:10].T,axis = 0))\n",
    "        optimize_sigbeta   = OptimizeRegularizer(gtcent, Y, sigmax = np.std(gtcent.T,axis = 0))\n",
    "        l = optimize_sigbeta.update()\n",
    "        optimize_sigbeta.niter\n",
    "        sigbetas            = optimize_sigbeta.sigmareg\n",
    "        #print(sigbetas)\n",
    "        toc = time.time()\n",
    "        print (\"Sigma beta optimization completed in :\", toc - tic , \"seconds\\n\")\n",
    "        print (\"Optimized sigma beta value is:\" , sigbetas,\"\\n\")\n",
    "        #del geno, conv_dosage, trans_dosage\n",
    "    except OSError as e:\n",
    "        print(\"\\n\",e, \". Trans-eQTLs file not provided for Optimization\\n\")\n",
    "        raise SystemExit\n",
    "\n",
    "\n",
    "else:\n",
    "    print(\"\\n=============================================================\")\n",
    "    print(\"\\nsigma beta optimization not requested\")\n",
    "    if user_sigbeta == 0.006:\n",
    "        print (\"\\nsigma beta not provided. Using default value of 0.006\")\n",
    "    else:\n",
    "        print(\"\\nsigma beta value provided as : \" , user_sigbeta)\n",
    "    print(\"=============================================================\")\n"
   ]
  },
  {
   "cell_type": "code",
   "execution_count": 8,
   "metadata": {
    "scrolled": false
   },
   "outputs": [
    {
     "data": {
      "text/plain": [
       "-0.9352539062500017"
      ]
     },
     "execution_count": 8,
     "metadata": {},
     "output_type": "execute_result"
    }
   ],
   "source": [
    "np.log(0.39248619818021474)"
   ]
  },
  {
   "cell_type": "code",
   "execution_count": 9,
   "metadata": {},
   "outputs": [],
   "source": [
    "# ## Plot\n",
    "\n",
    "# fig = plt.figure(figsize = (12, 10))\n",
    "# ax5 = fig.add_subplot(221)\n",
    "# ax6 = fig.add_subplot(222)\n",
    "# ax7 = fig.add_subplot(223)\n",
    "# ax8 = fig.add_subplot(224)\n",
    "\n",
    "# nbins = 150\n",
    "# sizefactor = 1\n",
    "# hist_qq.plot(ax5, ax6, pvals_ultra, nbins, 'uniform', loc = 0, scale = 1, size = sizefactor)\n",
    "\n",
    "# plt.tight_layout()\n",
    "# plt.show()"
   ]
  },
  {
   "cell_type": "code",
   "execution_count": 10,
   "metadata": {},
   "outputs": [
    {
     "ename": "NameError",
     "evalue": "name 'S' is not defined",
     "output_type": "error",
     "traceback": [
      "\u001b[0;31m---------------------------------------------------------------------------\u001b[0m",
      "\u001b[0;31mNameError\u001b[0m                                 Traceback (most recent call last)",
      "\u001b[0;32m<ipython-input-10-6096e875eedc>\u001b[0m in \u001b[0;36m<module>\u001b[0;34m()\u001b[0m\n\u001b[0;32m----> 1\u001b[0;31m \u001b[0mprint\u001b[0m\u001b[0;34m(\u001b[0m\u001b[0mnp\u001b[0m\u001b[0;34m.\u001b[0m\u001b[0mmedian\u001b[0m\u001b[0;34m(\u001b[0m\u001b[0mnp\u001b[0m\u001b[0;34m.\u001b[0m\u001b[0msquare\u001b[0m\u001b[0;34m(\u001b[0m\u001b[0mS\u001b[0m\u001b[0;34m)\u001b[0m\u001b[0;34m)\u001b[0m\u001b[0;34m)\u001b[0m\u001b[0;34m\u001b[0m\u001b[0m\n\u001b[0m",
      "\u001b[0;31mNameError\u001b[0m: name 'S' is not defined"
     ]
    }
   ],
   "source": [
    "print(np.median(np.square(S)))\n"
   ]
  },
  {
   "cell_type": "code",
   "execution_count": null,
   "metadata": {},
   "outputs": [],
   "source": [
    "print(pvals_ultra)"
   ]
  },
  {
   "cell_type": "code",
   "execution_count": null,
   "metadata": {},
   "outputs": [],
   "source": [
    "print(Rscore)"
   ]
  },
  {
   "cell_type": "code",
   "execution_count": null,
   "metadata": {},
   "outputs": [],
   "source": [
    "#print([x.rsid for x in snpinfo] )"
   ]
  },
  {
   "cell_type": "code",
   "execution_count": null,
   "metadata": {},
   "outputs": [],
   "source": [
    "geno"
   ]
  },
  {
   "cell_type": "code",
   "execution_count": null,
   "metadata": {},
   "outputs": [],
   "source": [
    "print(np.argsort([x.rsid for x in snpinfo]) )"
   ]
  },
  {
   "cell_type": "code",
   "execution_count": null,
   "metadata": {},
   "outputs": [],
   "source": [
    "snpinfo[674]"
   ]
  },
  {
   "cell_type": "code",
   "execution_count": null,
   "metadata": {},
   "outputs": [],
   "source": [
    "geno[674]"
   ]
  },
  {
   "cell_type": "code",
   "execution_count": null,
   "metadata": {},
   "outputs": [],
   "source": [
    "l"
   ]
  },
  {
   "cell_type": "code",
   "execution_count": 9,
   "metadata": {},
   "outputs": [
    {
     "data": {
      "text/plain": [
       "array([1.00000000e-04, 3.16227766e-02, 1.00000000e+01])"
      ]
     },
     "execution_count": 9,
     "metadata": {},
     "output_type": "execute_result"
    }
   ],
   "source": [
    "np.logspace(-4,1, 3)"
   ]
  },
  {
   "cell_type": "code",
   "execution_count": 12,
   "metadata": {},
   "outputs": [
    {
     "data": {
      "text/plain": [
       "array([0.01831564, 0.22313016, 2.71828183])"
      ]
     },
     "execution_count": 12,
     "metadata": {},
     "output_type": "execute_result"
    }
   ],
   "source": [
    "np.e**(np.linspace(-4,1, 3))"
   ]
  },
  {
   "cell_type": "code",
   "execution_count": null,
   "metadata": {},
   "outputs": [],
   "source": []
  }
 ],
 "metadata": {
  "kernelspec": {
   "display_name": "Python 3",
   "language": "python",
   "name": "python3"
  },
  "language_info": {
   "codemirror_mode": {
    "name": "ipython",
    "version": 3
   },
   "file_extension": ".py",
   "mimetype": "text/x-python",
   "name": "python",
   "nbconvert_exporter": "python",
   "pygments_lexer": "ipython3",
   "version": "3.6.4"
  }
 },
 "nbformat": 4,
 "nbformat_minor": 2
}
