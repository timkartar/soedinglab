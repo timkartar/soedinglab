{
 "cells": [
  {
   "cell_type": "code",
   "execution_count": 1,
   "metadata": {
    "collapsed": true
   },
   "outputs": [],
   "source": [
    "import numpy as np\n",
    "import matplotlib.pyplot as plt\n",
    "\n",
    "import regdev\n",
    "import hist_qq\n",
    "import scipy\n",
    "import iotools"
   ]
  },
  {
   "cell_type": "code",
   "execution_count": 2,
   "metadata": {
    "collapsed": true
   },
   "outputs": [],
   "source": [
    "### Simulation parameters\n",
    "ngenes = 23973\n",
    "nsamples = 338\n",
    "nsnps = 10\n",
    "ntrans = 5"
   ]
  },
  {
   "cell_type": "code",
   "execution_count": 30,
   "metadata": {
    "collapsed": true
   },
   "outputs": [],
   "source": [
    "#expr = np.random.normal(0, 1, ngenes * nsamples).reshape(ngenes, nsamples)\n",
    "_, expr, _ = iotools.read_expression(\"data/expressions/GTEx_wholeBlood_Normalzed_NoPEER_lmcorrected.txt\")\n",
    "GX = expr[:ngenes, :]\n",
    "#GX = (GX - np.mean(GX, axis = 1).reshape(-1, 1)) / np.std(GX, axis = 1).reshape(-1, 1)"
   ]
  },
  {
   "cell_type": "code",
   "execution_count": 35,
   "metadata": {
    "collapsed": true
   },
   "outputs": [],
   "source": [
    "dosage = np.zeros((nsnps, nsamples))\n",
    "fmin = 0.1\n",
    "mafratios = np.array([(1 - fmin)**2, 2 * fmin * (1 - fmin), fmin**2])\n",
    "\n",
    "#nfreq  = np.random.multinomial(nsamples, mafratios, size=1)\n",
    "nfreq = np.array([[279,  54,   5]])\n",
    "f1 = np.repeat(0, nfreq[0][0])\n",
    "f2 = np.repeat(1, nfreq[0][1])\n",
    "f3 = np.repeat(2, nfreq[0][2])\n",
    "x  = np.concatenate((f1,f2,f3))\n",
    "\n",
    "for i in range(nsnps):\n",
    "    dosage[i, :] = np.random.permutation(x)\n",
    "    \n",
    "maf = np.repeat(fmin, nsnps)"
   ]
  },
  {
   "cell_type": "code",
   "execution_count": 36,
   "metadata": {},
   "outputs": [
    {
     "name": "stdout",
     "output_type": "stream",
     "text": [
      "[ 34.33927106  35.80318439  34.62821747  36.91867337  34.20984579\n",
      "  34.94412451  35.03314618  34.01538678  34.70038874  34.84852451]\n",
      "34.9057881873\n",
      "0.7308227813\n"
     ]
    }
   ],
   "source": [
    "GT_centered = dosage - np.mean(dosage, axis = 1).reshape(-1, 1)\n",
    "sigmabeta2 = 0.005**2\n",
    "sigmax2 = np.var(GT_centered, axis = 1)\n",
    "Rscore_perm, pvals_perm, W_perm, S_perm, muQ, sigma2Q = regdev.rscore_perm(GT_centered, GX, sigmabeta2, sigmax2)\n",
    "print(Rscore_perm)\n",
    "print(np.mean(muQ))\n",
    "print(np.mean(np.sqrt(sigma2Q)))"
   ]
  },
  {
   "cell_type": "code",
   "execution_count": 14,
   "metadata": {},
   "outputs": [
    {
     "data": {
      "text/plain": [
       "array([[279,  54,   5]])"
      ]
     },
     "execution_count": 14,
     "metadata": {},
     "output_type": "execute_result"
    }
   ],
   "source": []
  },
  {
   "cell_type": "code",
   "execution_count": null,
   "metadata": {
    "collapsed": true
   },
   "outputs": [],
   "source": []
  }
 ],
 "metadata": {
  "kernelspec": {
   "display_name": "Python 3",
   "language": "python",
   "name": "python3"
  },
  "language_info": {
   "codemirror_mode": {
    "name": "ipython",
    "version": 3
   },
   "file_extension": ".py",
   "mimetype": "text/x-python",
   "name": "python",
   "nbconvert_exporter": "python",
   "pygments_lexer": "ipython3",
   "version": "3.6.4"
  }
 },
 "nbformat": 4,
 "nbformat_minor": 2
}
