{
 "cells": [
  {
   "cell_type": "code",
   "execution_count": 2,
   "metadata": {
    "collapsed": true
   },
   "outputs": [],
   "source": [
    "import numpy as np\n",
    "import matplotlib.pyplot as plt\n",
    "import collections\n",
    "from tqdm import tqdm"
   ]
  },
  {
   "cell_type": "code",
   "execution_count": 2,
   "metadata": {
    "collapsed": true
   },
   "outputs": [],
   "source": [
    "def logml(X, Y, sigmabeta, sigmax):\n",
    "    nsnps = X.shape[0]\n",
    "    nsamples = X.shape[1]\n",
    "    sigmabeta2 = sigmabeta * sigmabeta\n",
    "    sigmax2    = np.square(sigmax)\n",
    "    \n",
    "    Yt = Y.T # shape N x G\n",
    "    Abase = sigmabeta2 * np.dot(Yt, Yt.T)\n",
    "    \n",
    "    totres = 0\n",
    "    for i in range(nsnps):\n",
    "        A = Abase.copy()\n",
    "        A[np.diag_indices(nsamples)] += sigmax2[i]\n",
    "        logdetA = np.linalg.slogdet(A)\n",
    "        invA = np.linalg.inv(A)\n",
    "        res = - 0.5 * ( nsamples * np.log(2 * np.pi) + logdetA[1] + np.dot(X[i, :].T, np.dot(invA, X[i, :])) )\n",
    "        totres += res\n",
    "    return totres"
   ]
  },
  {
   "cell_type": "code",
   "execution_count": null,
   "metadata": {
    "collapsed": true
   },
   "outputs": [],
   "source": [
    "def logml_alt(X, Y, sigmabeta, sigmax):\n",
    "    nsnps = X.shape[0]\n",
    "    nsamples = X.shape[1]\n",
    "    ngenes = Y.shape[0]\n",
    "    sigmabeta2 = sigmabeta * sigmabeta\n",
    "    sigmax2    = sigmax    * sigmax\n",
    "    \n",
    "    Yt = Y.T # shape N x G\n",
    "    A = np.dot(Yt.T, Yt)\n",
    "    A[np.diag_indices(ngenes)] += sigmax2 / sigmabeta2\n",
    "    logdetA = np.linalg.slogdet(A)\n",
    "    invA = np.linalg.inv(A)\n",
    "    W = np.dot(Yt, np.dot(invA, Yt.T))\n",
    "    \n",
    "    partres = - 0.5 * ngenes * np.log(2 * np.pi * sigmabeta2) - 0.5 * logdetA[1]\n",
    "    totres = 0\n",
    "    for i in range(X.shape[0]):\n",
    "        #res = partres + 0.5 * np.linalg.multi_dot([X[i, :].T, Yt, invA, Yt.T, X[i, :]]) / sigmax2\n",
    "        res = partres + 0.5 * np.dot(X[i, :].T, np.dot(W, X[i,:])) / sigmax2\n",
    "        totres += res\n",
    "    return totres"
   ]
  },
  {
   "cell_type": "code",
   "execution_count": 3,
   "metadata": {
    "collapsed": true
   },
   "outputs": [],
   "source": [
    "def logml_alt_svd(X, Y, sigmabeta, sigmax):\n",
    "    nsnps = X.shape[0]\n",
    "    nsamples = X.shape[1]\n",
    "    ngenes = Y.shape[0]\n",
    "    sigmabeta2 = sigmabeta * sigmabeta\n",
    "    sigmax2    = sigmax ** 2\n",
    "    \n",
    "    Yt = Y.T # shape N x G\n",
    "    A_base = np.dot(Yt.T, Yt)\n",
    "    U, S, Vt = np.linalg.svd(Yt)\n",
    "    totres = 0\n",
    "    for i in range(nsnps):\n",
    "        A = A_base.copy()\n",
    "        A[np.diag_indices(ngenes)] += sigmax2[i] / sigmabeta2\n",
    "        logdetA = np.linalg.slogdet(A)\n",
    "        Smod = np.diag(np.square(S) / (np.square(S) + sigmax2[i] / sigmabeta2))\n",
    "        W = np.dot(U, np.dot(Smod, U.T))\n",
    "        partres = - 0.5 * ngenes * np.log(2 * np.pi * sigmabeta2) - 0.5 * logdetA[1]\n",
    "        res = partres + 0.5 * np.dot(X[i, :].T, np.dot(W, X[i,:])) / sigmax2[i]\n",
    "        totres += res\n",
    "    return totres"
   ]
  },
  {
   "cell_type": "code",
   "execution_count": 9,
   "metadata": {},
   "outputs": [],
   "source": [
    "def logml_appr(X, Y, sigmabeta, sigmax, detA, trA, trA_2, tr_A2):\n",
    "    nsnps = X.shape[0]\n",
    "    nsamples = X.shape[1]\n",
    "    ngenes = Y.shape[0]\n",
    "    sigmabeta2 = sigmabeta * sigmabeta\n",
    "    sigmax2    = sigmax ** 2\n",
    "    \n",
    "    Yt = Y.T # shape N x G\n",
    "    A_base = np.dot(Yt.T, Yt)\n",
    "    U, S, Vt = np.linalg.svd(Yt)\n",
    "    totres = 0\n",
    "    for i in range(nsnps):\n",
    "        A = A_base.copy()\n",
    "        A[np.diag_indices(ngenes)] += sigmax2[i] / sigmabeta2\n",
    "        logdetA = np.linalg.slogdet(A)\n",
    "        Smod = np.diag(np.square(S) / (np.square(S) + sigmax2[i] / sigmabeta2))\n",
    "        W = np.dot(U, np.dot(Smod, U.T))\n",
    "        partres = - 0.5 * ngenes * np.log(2 * np.pi * sigmabeta2) - 0.5 * logdetA[1]\n",
    "        res = partres + 0.5 * np.dot(X[i, :].T, np.dot(W, X[i,:])) / sigmax2[i]\n",
    "        totres += res\n",
    "    return totres"
   ]
  },
  {
   "cell_type": "code",
   "execution_count": 19,
   "metadata": {
    "collapsed": true
   },
   "outputs": [],
   "source": [
    "def logml_appr_old(X, Y, sigmabeta, sigmax, detA, trA, trA_2, tr_A2):\n",
    "    nsnps = X.shape[0]\n",
    "    nsamples = X.shape[1]\n",
    "    ngenes = Y.shape[0]\n",
    "    sigmabeta2 = sigmabeta * sigmabeta\n",
    "    sigmax2    = sigmax ** 2\n",
    "    \n",
    "    Yt = Y.T # shape N x G\n",
    "    U, S, Vt = np.linalg.svd(Yt)\n",
    "    yty = np.dot(Yt.T, Yt)\n",
    "    lml = 0\n",
    "    for snp in range(nsnps):\n",
    "        #A = yty.copy()\n",
    "        #A[np.diag_indices(ngenes)] += sigmax2[snp] / sigmabeta2\n",
    "        #logdetA = np.linalg.slogdet(A)[1]\n",
    "        eps = sigmabeta2/sigmax2[snp]\n",
    "        log_identity_term = - np.log(eps) * ngenes\n",
    "        logdetA = log_identity_term + np.log(1 + detA + eps * trA + 0.5 * eps * eps * trA_2 - 0.5 * eps * eps * tr_A2)\n",
    "\n",
    "        Smod = np.diag(np.square(S) / (np.square(S) + sigmax2[snp] / sigmabeta2))\n",
    "        W = np.dot(U, np.dot(Smod, U.T))\n",
    "        partres = - 0.5 * ngenes * np.log(2 * np.pi * sigmabeta2) - 0.5 * logdetA\n",
    "        res = partres + 0.5 * np.dot(X[snp, :].T, np.dot(W, X[snp,:])) / sigmax2[snp]\n",
    "        lml += res\n",
    "\n",
    "    return lml"
   ]
  },
  {
   "cell_type": "code",
   "execution_count": null,
   "metadata": {
    "collapsed": true
   },
   "outputs": [],
   "source": [
    "def grad_logml(X, Y, sigmabeta, sigmax):\n",
    "    nsnps = X.shape[0]\n",
    "    nsamples = X.shape[1]\n",
    "    ngenes = Y.shape[0]\n",
    "    sigmabeta2 = sigmabeta * sigmabeta\n",
    "    sigmax2    = sigmax**2\n",
    "    \n",
    "    Yt = Y.T # shape N x G\n",
    "    U, S, Vt = np.linalg.svd(Yt)\n",
    "    \n",
    "    term1 = -ngenes\n",
    "\n",
    "    #Smod = np.zeros((ngenes, ngenes))\n",
    "    #Smod[np.arange(nsamples), np.arange(nsamples)] = np.square(S)\n",
    "    #Smod[np.diag_indices_from(Smod)] += sigmax2 / sigmabeta2\n",
    "    #B = np.linalg.multi_dot([Vt.T, Smod, Vt])\n",
    "    #invB = np.linalg.inv(B)\n",
    "    #term2 = sigmabeta2 * np.trace(invB * sigmax2 / sigmabeta2 / sigmabeta2)\n",
    "    \n",
    "    \n",
    "    #Smod = np.square(S) * sigmabeta2 / sigmax2\n",
    "    #partsum = -ngenes + np.sum(1 / (Smod + 1))\n",
    "    der = 0\n",
    "    for i in tqdm(range(nsnps)):\n",
    "        Smod = np.square(S) * sigmabeta2 / sigmax2[i]\n",
    "        term2 = (ngenes - nsamples) + np.sum(1 / (Smod + 1))\n",
    "        term3 = 0\n",
    "        for k in range(nsamples):\n",
    "            uk = U[:, k]\n",
    "            sk = S[k]\n",
    "            smod = sk * sk * sigmabeta2 / sigmax2[i]\n",
    "            term3 += smod * np.square(np.dot(uk, X[i,:])) / sigmax2[i] / np.square(smod + 1)\n",
    "        der += term1 + term2 + term3\n",
    "        #der += snpgrad\n",
    "        #innersum = np.sum(np.square(np.dot(U.T, X[i,:])) * S2 / S2mod)\n",
    "        #res = innersum + np.sum(np.square(np.dot(U.T, X[i,:])) * Smod / np.square(Smod + 1) / sigmax2)\n",
    "        #der += res\n",
    "    return der"
   ]
  },
  {
   "cell_type": "code",
   "execution_count": 5,
   "metadata": {
    "collapsed": true
   },
   "outputs": [],
   "source": [
    "def permuted_dosage(expr, nsnp = 5000, fmin = 0.1, fmax = 0.9, maketest = False):\n",
    "\n",
    "    f = np.random.uniform(fmin, fmax, nsnp)\n",
    "    if maketest:\n",
    "        f = np.repeat(0.1, nsnp)\n",
    "    nsample = expr.shape[1]\n",
    "\n",
    "    dosage = np.zeros((nsnp, nsample))\n",
    "    for i in range(nsnp):\n",
    "        if maketest:\n",
    "            nfreq = np.array([[279,  54,   5]])[0]\n",
    "        else:\n",
    "            mafratios = np.array([(1 - f[i])**2, 2 * f[i] * (1 - f[i]), f[i]**2])\n",
    "            nfreq  = np.random.multinomial(nsample, mafratios, size=1)[0]\n",
    "        f1 = np.repeat(0, nfreq[0])\n",
    "        f2 = np.repeat(1, nfreq[1])\n",
    "        f3 = np.repeat(2, nfreq[2])\n",
    "        x  = np.concatenate((f1,f2,f3))\n",
    "        dosage[i, :] = np.random.permutation(x)\n",
    "\n",
    "    maf2d = f.reshape(-1, 1)\n",
    "    gtnorm = (dosage - (2 * maf2d)) / np.sqrt(2 * maf2d * (1 - maf2d))\n",
    "    gtcent = dosage - np.mean(dosage, axis = 1).reshape(-1, 1)\n",
    "\n",
    "    return gtnorm, gtcent\n",
    "\n",
    "\n",
    "def expression(gt, gx, beta, cfrac = 0.001):\n",
    "\n",
    "    ntrans  = gt.shape[0]\n",
    "    ngene   = gx.shape[0]\n",
    "    nsample = gx.shape[1]\n",
    "\n",
    "    liabilities = np.zeros((ngene, nsample))\n",
    "    cindex = np.zeros((ntrans, ngene))                                           # Index matrix of gene / trans-eQTLs pairs\n",
    "    nc  = np.random.gamma(ngene * cfrac, scale = 1.0, size = ntrans).astype(int) # number of target genes for each trans-eQTL\n",
    "    for i in range(ntrans):\n",
    "        ncausal = min(ngene, nc[i])                                              # do something better, trans-eQTLs cannot target all genes\n",
    "        choose = np.random.choice(ngene, ncausal, replace = False)\n",
    "        cindex[i, choose] = 1                                                    # mark these genes as causal\n",
    "\n",
    "    gtarget = list()\n",
    "\n",
    "    for i in range(ngene):\n",
    "        csnps = np.where(cindex[:, i] == 1)[0]\n",
    "        if csnps.shape[0] > 0: # then we got a trans-eQTL\n",
    "            betas = np.random.normal(0, beta, size = csnps.shape[0])\n",
    "            #betas *= np.sqrt( H2[i] / np.sum(np.square(beta)) )\n",
    "            liabilities[i, :] = np.dot(gt[csnps, :].T, betas)\n",
    "            gtarget.append(i)\n",
    "\n",
    "    newGX = gx + liabilities\n",
    "    newGX = (newGX - np.mean(newGX, axis = 1).reshape(-1, 1)) / np.std(newGX, axis = 1).reshape(-1, 1)\n",
    "    return newGX, nc"
   ]
  },
  {
   "cell_type": "code",
   "execution_count": 43,
   "metadata": {
    "collapsed": true
   },
   "outputs": [],
   "source": [
    "### Simulation of data\n",
    "\n",
    "ngenes = 500\n",
    "nsamples = 200\n",
    "nsnps = 100\n",
    "true_sigmabeta = 5.0\n",
    "nmin = 1\n",
    "cfrac = 1\n",
    "nmax = int(ngenes)\n",
    "ncausal = np.random.randint(nmin, nmax, nsnps)\n",
    "fmin = 0.1\n",
    "fmax = 0.5\n",
    "ntrans = 40\n",
    "\n",
    "Y = np.random.randn(ngenes * nsamples).reshape(ngenes, nsamples)\n",
    "\n",
    "gtnorm, gtcent = permuted_dosage(Y, nsnp = nsnps, fmin = fmin, fmax = fmax)\n",
    "       \n",
    "# Trans-eQTL\n",
    "if ntrans > 0:\n",
    "    newgx,  nc = expression(gtnorm[-ntrans:, :], Y, beta=true_sigmabeta, cfrac = cfrac)\n",
    "Y = newgx\n",
    "\n",
    "# X = np.zeros((nsnps, nsamples))\n",
    "# for i in range(nsnps):\n",
    "#     choose = np.random.choice(ngenes, ncausal[i], replace=False)\n",
    "#     betas = np.random.normal(0, true_sigmabeta, ncausal[i])\n",
    "#     #betas = np.random.normal(0, true_sigmabeta, ngenes)\n",
    "#     #choose = np.arange(ngenes)\n",
    "#     X[i, :] = np.dot(Y[choose, :].T, betas) + np.random.normal(0, 1, nsamples)"
   ]
  },
  {
   "cell_type": "code",
   "execution_count": 31,
   "metadata": {
    "collapsed": true
   },
   "outputs": [
    {
     "name": "stdout",
     "output_type": "stream",
     "text": [
      "(500, 200)\n"
     ]
    }
   ],
   "source": [
    "print(Y.shape)"
   ]
  },
  {
   "cell_type": "code",
   "execution_count": 47,
   "metadata": {
    "collapsed": true
   },
   "outputs": [],
   "source": [
    "### Marginal log likelihood (different ways of calculation)\n",
    "sigmax = np.std(gtcent,axis = 1)\n",
    "sigmabeta = np.logspace(-7, 1, 50)\n",
    "\n",
    "A =  np.dot(Y, Y.T)\n",
    "detA = np.linalg.det(A)\n",
    "trA  = np.trace(A)\n",
    "trA_2 = np.trace(A)**2\n",
    "tr_A2 = np.trace(np.dot(A,A))\n",
    "\n",
    "ysimp    = [logml        (gtcent, Y, sbeta, sigmax) for sbeta in sigmabeta]\n",
    "#ycomp    = [logml_alt_svd(gtnorm, Y, sbeta, sigmax) for sbeta in sigmabeta]\n",
    "#ycompsvd = [logml_appr_old(gtcent, Y, sbeta, sigmax, detA, trA, trA_2, tr_A2) for sbeta in sigmabeta]"
   ]
  },
  {
   "cell_type": "code",
   "execution_count": 63,
   "metadata": {},
   "outputs": [
    {
     "name": "stdout",
     "output_type": "stream",
     "text": [
      "0.6989700043360189\n"
     ]
    },
    {
     "data": {
      "image/png": "[encoded data removed]",
      "text/plain": [
       "<matplotlib.figure.Figure at 0x7faf1cb91d68>"
      ]
     },
     "metadata": {},
     "output_type": "display_data"
    }
   ],
   "source": [
    "sigmabeta = np.logspace(-10, 4, 50)\n",
    "true_alpha = np.log10(true_sigmabeta)\n",
    "#print(true_sigmabeta)\n",
    "\n",
    "fig = plt.figure(figsize = (6, 6))\n",
    "ax1 = fig.add_subplot(111)\n",
    "\n",
    "ax1.scatter(np.log10(sigmabeta), ysimp,    color = 'blue', label = 'Simple')\n",
    "#ax1.plot(np.log10(sigmabeta),    ycomp,    color = 'green', label = 'Complex')\n",
    "#ax1.scatter(np.log10(sigmabeta), ycompsvd, color = 'salmon', label = 'Complex SVD')#'salmon'\n",
    "print(true_alpha)\n",
    "ax1.axvline(x = true_alpha, color = 'red', label = 'True')\n",
    "ax1.axvline(x = np.log10(np.e ** -1.711663), color = 'blue', label = 'result')\n",
    "\n",
    "plt.legend(loc = 'upper left')\n",
    "plt.show()"
   ]
  },
  {
   "cell_type": "code",
   "execution_count": 56,
   "metadata": {
    "collapsed": true
   },
   "outputs": [
    {
     "data": {
      "text/plain": [
       "array([18768.87061849, 18768.87061819, 18768.87061757, 18768.87061624,\n",
       "       18768.87061343, 18768.87060747, 18768.87059483, 18768.87056802,\n",
       "       18768.87051116, 18768.87039055, 18768.87013475, 18768.86959222,\n",
       "       18768.86844153, 18768.86600097, 18768.86082469, 18768.84984615,\n",
       "       18768.82656158, 18768.77717787, 18768.67244523, 18768.45034742,\n",
       "       18767.97944612, 18766.98139433, 18764.86774911, 18760.39903332,\n",
       "       18750.98457035, 18731.29765441, 18690.76161754, 18609.88796998,\n",
       "       18458.2451548 , 18204.95036407, 17859.63801545, 17531.94621344,\n",
       "       17425.04283593, 17713.89426311, 18432.26775849, 19491.17830925,\n",
       "       20771.05994218, 22183.8832598 , 23688.08766988, 25288.16926849,\n",
       "       27043.78660185, 29094.56378397, 31676.77300228, 35073.60685061,\n",
       "       39482.47100406, 44901.71615087, 51143.2897444 , 57944.77240438,\n",
       "       65076.98132394, 72386.08293376])"
      ]
     },
     "execution_count": 56,
     "metadata": {},
     "output_type": "execute_result"
    }
   ],
   "source": [
    "-np.array(ysimp)"
   ]
  },
  {
   "cell_type": "code",
   "execution_count": null,
   "metadata": {
    "collapsed": true
   },
   "outputs": [],
   "source": [
    "def numerical_gradient(X, Y, sbeta, sigmax, method='logml'):\n",
    "    logsbeta = np.log(sbeta)\n",
    "    delta = 0.001 * logsbeta\n",
    "    sbeta_shifted = np.exp(logsbeta + delta)\n",
    "    if method == 'logml':\n",
    "        y    = logml(X, Y, sbeta, sigmax)\n",
    "        ynew = logml(X, Y, sbeta_shifted, sigmax)\n",
    "    elif method == 'logml_alt':\n",
    "        y    = logml_alt(X, Y, sbeta, sigmax)\n",
    "        ynew = logml_alt(X, Y, sbeta_shifted, sigmax)\n",
    "    elif method == 'logml_alt_svd':\n",
    "        y    = logml_alt_svd(X, Y, sbeta, sigmax)\n",
    "        ynew = logml_alt_svd(X, Y, sbeta_shifted, sigmax)\n",
    "    grad = (ynew - y) / delta\n",
    "    return grad\n",
    "\n",
    "#grad         = [numerical_gradient(X, Y, sbeta, sigmax, 'logml')         for sbeta in sigmabeta]\n",
    "#grad_alt     = [numerical_gradient(X, Y, sbeta, sigmax, 'logml_alt')     for sbeta in sigmabeta]\n",
    "grad_alt_svd = [numerical_gradient(gtcent, Y, sbeta, sigmax, 'logml_alt_svd') for sbeta in sigmabeta]"
   ]
  },
  {
   "cell_type": "code",
   "execution_count": null,
   "metadata": {
    "collapsed": true
   },
   "outputs": [],
   "source": [
    "grad_theory  = [grad_logml(gtcent, Y, sbeta, sigmax) for sbeta in sigmabeta]"
   ]
  },
  {
   "cell_type": "code",
   "execution_count": null,
   "metadata": {},
   "outputs": [],
   "source": [
    "fig = plt.figure(figsize = (6, 6))\n",
    "ax1 = fig.add_subplot(111)\n",
    "\n",
    "#ax1.scatter(np.log(sigmabeta), grad,         color = 'blue', label = 'Simple')\n",
    "#ax1.plot   (np.log(sigmabeta), grad_alt,     color = 'green', label = 'Complex')\n",
    "ax1.scatter(np.log(sigmabeta), grad_alt_svd, color = 'salmon', label = 'Numerical')\n",
    "ax1.plot   (np.log(sigmabeta), grad_theory,  color = 'blue', label = 'Analytical')\n",
    "\n",
    "ax1.axvline(x = true_alpha, color = 'red', label = 'True')\n",
    "\n",
    "plt.legend(loc = 'upper left')\n",
    "#ax1.set_ylim(-100000, 100000)\n",
    "plt.show()"
   ]
  },
  {
   "cell_type": "code",
   "execution_count": null,
   "metadata": {
    "collapsed": true
   },
   "outputs": [],
   "source": [
    "# First term\n",
    "\n",
    "def term1(X, Y, sigmabeta, sigmax):\n",
    "    ngenes = Y.shape[0]\n",
    "    sigmabeta2 = sigmabeta * sigmabeta\n",
    "    return -0.5 * ngenes * np.log(2 * np.pi * sigmabeta2)\n",
    "\n",
    "def term2(X, Y, sigmabeta, sigmax):\n",
    "    ngenes = Y.shape[0]\n",
    "    sigmabeta2 = sigmabeta * sigmabeta\n",
    "    sigmax2    = sigmax    * sigmax    \n",
    "    Yt = Y.T # shape N x G\n",
    "    A = np.dot(Yt.T, Yt)\n",
    "    A[np.diag_indices(ngenes)] += sigmax2 / sigmabeta2\n",
    "    logdetA = np.linalg.slogdet(A)\n",
    "    return -0.5 * logdetA[1]\n",
    "\n",
    "def term3(X, Y, sigmabeta, sigmax):\n",
    "    ngenes = Y.shape[0]\n",
    "    sigmabeta2 = sigmabeta * sigmabeta\n",
    "    sigmax2    = sigmax    * sigmax    \n",
    "    Yt = Y.T # shape N x G\n",
    "    U, S, Vt = np.linalg.svd(Yt)\n",
    "    Smod = np.diag(np.square(S) / (np.square(S) + sigmax2 / sigmabeta2))\n",
    "    W = np.dot(U, np.dot(Smod, U.T))\n",
    "    i = 0\n",
    "    res = 0.5 * np.dot(X[i, :].T, np.dot(W, X[i,:])) / sigmax2\n",
    "    return res\n",
    "\n",
    "def grad_term1(X, Y, sigmabeta, sigmax):\n",
    "    ngenes = Y.shape[0]\n",
    "    return -ngenes\n",
    "\n",
    "def grad_term2(X, Y, sigmabeta, sigmax):\n",
    "    nsamples = Y.shape[1]\n",
    "    ngenes = Y.shape[0]\n",
    "    sigmabeta2 = sigmabeta * sigmabeta\n",
    "    sigmax2    = sigmax    * sigmax\n",
    "    Yt = Y.T\n",
    "    #A = np.dot(Yt.T, Yt)\n",
    "    #A[np.diag_indices(ngenes)] += sigmax2 / sigmabeta2\n",
    "    #invA = np.linalg.inv(A)\n",
    "    #der = sigmabeta2 * np.trace(invA * sigmax2 / sigmabeta2 / sigmabeta2)\n",
    "    U, S, Vt = np.linalg.svd(Yt)\n",
    "    Smod = np.zeros((ngenes, ngenes))\n",
    "    Smod[np.arange(nsamples), np.arange(nsamples)] = np.square(S)\n",
    "    Smod[np.diag_indices_from(Smod)] += sigmax2 / sigmabeta2\n",
    "    B = np.linalg.multi_dot([Vt.T, Smod, Vt])\n",
    "    invB = np.linalg.inv(B)\n",
    "    der = sigmabeta2 * np.trace(invB * sigmax2 / sigmabeta2 / sigmabeta2) \n",
    "    #nsamples = X.shape[1]\n",
    "    #sigmabeta2 = sigmabeta * sigmabeta\n",
    "    #sigmax2    = sigmax    * sigmax\n",
    "    #Yt = Y.T # shape N x G\n",
    "    #U, S, Vt = np.linalg.svd(Yt)\n",
    "    #der = 0\n",
    "    #for k in range(U.shape[0]):\n",
    "    #    sk = S[k]\n",
    "    #    smod = sk * sk * sigmabeta2 / sigmax2\n",
    "    #    der += 1 / (smod + 1)\n",
    "    return der\n",
    "\n",
    "def grad_term3(X, Y, sigmabeta, sigmax):\n",
    "    nsamples = X.shape[1]\n",
    "    nsnps = X.shape[0]\n",
    "    sigmabeta2 = sigmabeta * sigmabeta\n",
    "    sigmax2    = sigmax    * sigmax\n",
    "    Yt = Y.T # shape N x G\n",
    "    U, S, Vt = np.linalg.svd(Yt)\n",
    "    der = 0\n",
    "    for k in range(nsamples):\n",
    "        sk = S[k]\n",
    "        uk = U[:, k]\n",
    "        snppart = np.square(np.dot(uk, X[0,:]))\n",
    "        smod = sk * sk * sigmabeta2 / sigmax2\n",
    "        der += smod * snppart / sigmax2 / np.square(smod + 1)\n",
    "    return der\n",
    "\n",
    "def grad_numeric(X, Y, sigmabeta, sigmax, method = 'term1'):\n",
    "    logsbeta = np.log(sigmabeta)\n",
    "    delta = 0.00001 * logsbeta\n",
    "    sigmabeta_shifted = np.exp(logsbeta + delta)\n",
    "    if method == 'term1':\n",
    "        y    = term1(X, Y, sigmabeta, sigmax)\n",
    "        ynew = term1(X, Y, sigmabeta_shifted, sigmax)\n",
    "    elif method == 'term2':\n",
    "        y    = term2(X, Y, sigmabeta, sigmax)\n",
    "        ynew = term2(X, Y, sigmabeta_shifted, sigmax)\n",
    "    elif method == 'term3':\n",
    "        y    = term3(X, Y, sigmabeta, sigmax)\n",
    "        ynew = term3(X, Y, sigmabeta_shifted, sigmax)\n",
    "    grad = (ynew - y) / delta\n",
    "    return grad"
   ]
  },
  {
   "cell_type": "code",
   "execution_count": null,
   "metadata": {
    "collapsed": true
   },
   "outputs": [],
   "source": [
    "y1 = [term1(X, Y, sbeta, 1) for sbeta in sigmabeta]\n",
    "y1_gradnumeric = [grad_numeric(X, Y, sbeta, 1, 'term1') for sbeta in sigmabeta]\n",
    "y1_gradtheory  = [grad_term1(X, Y, sbeta, 1) for sbeta in sigmabeta]"
   ]
  },
  {
   "cell_type": "code",
   "execution_count": null,
   "metadata": {
    "collapsed": true
   },
   "outputs": [],
   "source": [
    "y2 = [term2(X, Y, sbeta, 1) for sbeta in sigmabeta]\n",
    "y2_gradnumeric = [grad_numeric(X, Y, sbeta, 1, 'term2') for sbeta in sigmabeta]\n",
    "y2_gradtheory  = [grad_term2(X, Y, sbeta, 1) for sbeta in sigmabeta]"
   ]
  },
  {
   "cell_type": "code",
   "execution_count": null,
   "metadata": {
    "collapsed": true
   },
   "outputs": [],
   "source": [
    "y3 = [term3(X, Y, sbeta, 1) for sbeta in sigmabeta]\n",
    "y3_gradnumeric = [grad_numeric(X, Y, sbeta, 1, 'term3') for sbeta in sigmabeta]\n",
    "y3_gradtheory  = [grad_term3(X, Y, sbeta, 1) for sbeta in sigmabeta]"
   ]
  },
  {
   "cell_type": "code",
   "execution_count": null,
   "metadata": {
    "collapsed": true
   },
   "outputs": [],
   "source": [
    "fig = plt.figure(figsize = (12, 24))\n",
    "ax1 = fig.add_subplot(421)\n",
    "ax2 = fig.add_subplot(422)\n",
    "ax3 = fig.add_subplot(423)\n",
    "ax4 = fig.add_subplot(424)\n",
    "ax5 = fig.add_subplot(425)\n",
    "ax6 = fig.add_subplot(426)\n",
    "ax7 = fig.add_subplot(427)\n",
    "ax8 = fig.add_subplot(428)\n",
    "\n",
    "\n",
    "ax1.scatter(np.log(sigmabeta), y1, color = 'blue')\n",
    "ax2.scatter(np.log(sigmabeta), y1_gradnumeric, color = 'blue', label = 'Numeric')\n",
    "ax2.plot(np.log(sigmabeta), y1_gradtheory,  color = 'salmon', label = 'Theory')\n",
    "\n",
    "ax3.scatter(np.log(sigmabeta), y2, color = 'blue')\n",
    "ax4.scatter(np.log(sigmabeta), y2_gradnumeric, color = 'blue', label = 'Numeric')\n",
    "ax4.plot(np.log(sigmabeta), y2_gradtheory,  color = 'salmon', label = 'Theory')\n",
    "\n",
    "ax5.scatter(np.log(sigmabeta), y3, color = 'blue')\n",
    "ax6.scatter(np.log(sigmabeta), y3_gradnumeric, color = 'blue', label = 'Numeric')\n",
    "ax6.plot(np.log(sigmabeta), y3_gradtheory,  color = 'salmon', label = 'Theory')\n",
    "\n",
    "y = [sum(x) for x in zip(y1, y2, y3)]\n",
    "y_gradnumeric = [sum(x) for x in zip(y1_gradnumeric, y2_gradnumeric, y3_gradnumeric)]\n",
    "y_gradtheory = [sum(x) for x in zip(y1_gradtheory, y2_gradtheory, y3_gradtheory)]\n",
    "ax7.scatter(np.log(sigmabeta), y, color = 'blue')\n",
    "ax8.scatter(np.log(sigmabeta), y_gradnumeric, color = 'blue', label = 'Numeric')\n",
    "ax8.plot(np.log(sigmabeta), y_gradtheory,  color = 'salmon', label = 'Theory')\n",
    "\n",
    "ax2.legend(loc = 'lower right')\n",
    "ax4.legend(loc = 'upper right')\n",
    "#ax1.set_ylim(-100000, 100000)\n",
    "plt.show()"
   ]
  },
  {
   "cell_type": "code",
   "execution_count": null,
   "metadata": {},
   "outputs": [],
   "source": [
    "np.std(X,axis = 1).shape"
   ]
  },
  {
   "cell_type": "code",
   "execution_count": null,
   "metadata": {},
   "outputs": [],
   "source": [
    "1/2 * np.identity(3) + [[1,2,3],[2,3,4],[4,5,6]]"
   ]
  },
  {
   "cell_type": "code",
   "execution_count": null,
   "metadata": {},
   "outputs": [],
   "source": [
    "np.log(0.008)"
   ]
  },
  {
   "cell_type": "code",
   "execution_count": null,
   "metadata": {},
   "outputs": [],
   "source": [
    "np.e ** 0.3"
   ]
  },
  {
   "cell_type": "code",
   "execution_count": 61,
   "metadata": {},
   "outputs": [
    {
     "data": {
      "text/plain": [
       "1.6094379124341003"
      ]
     },
     "execution_count": 61,
     "metadata": {},
     "output_type": "execute_result"
    }
   ],
   "source": [
    "np.log(5)"
   ]
  },
  {
   "cell_type": "code",
   "execution_count": 3,
   "metadata": {},
   "outputs": [],
   "source": [
    "gtcent = np.array([[1,2],[3,4],[5,7]])"
   ]
  },
  {
   "cell_type": "code",
   "execution_count": 8,
   "metadata": {},
   "outputs": [
    {
     "data": {
      "text/plain": [
       "array([0.5, 0.5, 1. ])"
      ]
     },
     "execution_count": 8,
     "metadata": {},
     "output_type": "execute_result"
    }
   ],
   "source": [
    "np.std(gtcent,axis = 1)"
   ]
  },
  {
   "cell_type": "code",
   "execution_count": null,
   "metadata": {},
   "outputs": [],
   "source": []
  }
 ],
 "metadata": {
  "kernelspec": {
   "display_name": "Python 3",
   "language": "python",
   "name": "python3"
  },
  "language_info": {
   "codemirror_mode": {
    "name": "ipython",
    "version": 3
   },
   "file_extension": ".py",
   "mimetype": "text/x-python",
   "name": "python",
   "nbconvert_exporter": "python",
   "pygments_lexer": "ipython3",
   "version": "3.6.4"
  }
 },
 "nbformat": 4,
 "nbformat_minor": 2
}
