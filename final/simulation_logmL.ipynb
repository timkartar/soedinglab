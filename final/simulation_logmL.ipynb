{
 "cells": [
  {
   "cell_type": "code",
   "execution_count": 4,
   "metadata": {
    "collapsed": true
   },
   "outputs": [],
   "source": [
    "import numpy as np\n",
    "import matplotlib.pyplot as plt\n",
    "#import mpl_stylesheet\n",
    "\n",
    "#mpl_stylesheet.banskt_presentation(fontfamily = 'system')"
   ]
  },
  {
   "cell_type": "code",
   "execution_count": 5,
   "metadata": {},
   "outputs": [],
   "source": [
    "### Simulation of data\n",
    "\n",
    "def simulate(sb, sx):\n",
    "    ngene = 1000\n",
    "    nsample = 338\n",
    "    nsnp = sx.shape[0]\n",
    "    \n",
    "    betas = np.random.normal(0, sb, ngene)\n",
    "    Y = np.zeros((ngene, nsample))\n",
    "    for i in range(ngene):\n",
    "        Y[i, :] = np.random.normal(0, 1, nsample)\n",
    "\n",
    "    Y = (Y - np.mean(Y, axis = 1).reshape(-1, 1)) / np.std(Y, axis = 1).reshape(-1, 1)\n",
    "    yTbeta = np.dot(Y.T, betas)\n",
    "    X = np.zeros((nsnp, nsample))\n",
    "    for i in range(nsnp):\n",
    "        error = np.random.normal(0, sx[i], nsample)\n",
    "        X[i, :] = yTbeta + error\n",
    "    return X, Y"
   ]
  },
  {
   "cell_type": "code",
   "execution_count": 6,
   "metadata": {},
   "outputs": [],
   "source": [
    "def logml(X, Y, sb, sx):\n",
    "    nsnp = X.shape[0]\n",
    "    nsample = X.shape[1]\n",
    "    sb2 = sb * sb\n",
    "    sx2 = np.square(sx)\n",
    "    \n",
    "    Yt = Y.T # shape N x G\n",
    "    Abase = sb2 * np.dot(Yt, Yt.T)    \n",
    "    totres = 0\n",
    "    for i in range(nsnp):\n",
    "        A = Abase.copy()\n",
    "        A[np.diag_indices(nsample)] += sx2[i]\n",
    "        logdetA = np.linalg.slogdet(A)\n",
    "        invA = np.linalg.inv(A)\n",
    "        res = - 0.5 * ( nsample * np.log(2 * np.pi) + logdetA[1] + np.dot(X[i, :].T, np.dot(invA, X[i, :])) )\n",
    "        totres += res\n",
    "    return totres\n",
    "\n",
    "def logml_alt_svd(X, Y, sb, sx):\n",
    "    nsnp = X.shape[0]\n",
    "    ngene = Y.shape[0]\n",
    "    sb2 = sb * sb\n",
    "    sx2 = np.square(sx)   \n",
    "    \n",
    "    Yt = Y.T # shape N x G\n",
    "    Abase = np.dot(Yt.T, Yt)\n",
    "    totres = 0\n",
    "    for i in range(nsnp):\n",
    "        A = Abase.copy()\n",
    "        A[np.diag_indices(ngene)] += sx2[i] / sb2\n",
    "        logdetA = np.linalg.slogdet(A)\n",
    "        U, S, Vt = np.linalg.svd(Yt)\n",
    "        Smod = np.diag(np.square(S) / (np.square(S) + sx2[i] / sb2))\n",
    "        W = np.dot(U, np.dot(Smod, U.T))\n",
    "        partres = - 0.5 * ngene * np.log(2 * np.pi * sb2) - 0.5 * logdetA[1]\n",
    "        totres += partres + 0.5 * np.dot(X[i, :].T, np.dot(W, X[i,:])) / sx2[i]\n",
    "    return totres"
   ]
  },
  {
   "cell_type": "code",
   "execution_count": 17,
   "metadata": {},
   "outputs": [],
   "source": [
    "def find_best_sigmabeta(X, Y, sigmabeta):\n",
    "    #sigmax = np.std(X, axis = 1)\n",
    "    sigmax = np.std(X - np.mean(X, axis = 0), axis = 1)\n",
    "    ysimp  = [logml(X, Y, sbeta, sigmax) for sbeta in sigmabeta]\n",
    "    best_sigmabeta = sigmabeta[ysimp.index(np.max(ysimp))]\n",
    "    print (\"Sigmabeta from optimization: {:g}\".format(best_sigmabeta))\n",
    "    return ysimp, best_sigmabeta"
   ]
  },
  {
   "cell_type": "code",
   "execution_count": 18,
   "metadata": {},
   "outputs": [
    {
     "name": "stdout",
     "output_type": "stream",
     "text": [
      "Sigmabeta true value: 0.0001\n",
      "Sigmabeta from optimization: 1e-05\n",
      "Sigmabeta true value: 0.000183298\n",
      "Sigmabeta from optimization: 1e-05\n",
      "Sigmabeta true value: 0.000335982\n",
      "Sigmabeta from optimization: 1e-05\n",
      "Sigmabeta true value: 0.000615848\n",
      "Sigmabeta from optimization: 1e-05\n",
      "Sigmabeta true value: 0.00112884\n",
      "Sigmabeta from optimization: 1e-05\n",
      "Sigmabeta true value: 0.00206914\n",
      "Sigmabeta from optimization: 0.000942668\n",
      "Sigmabeta true value: 0.00379269\n",
      "Sigmabeta from optimization: 0.00325702\n",
      "Sigmabeta true value: 0.00695193\n",
      "Sigmabeta from optimization: 0.0074438\n",
      "Sigmabeta true value: 0.0127427\n",
      "Sigmabeta from optimization: 0.0112534\n",
      "Sigmabeta true value: 0.0233572\n",
      "Sigmabeta from optimization: 0.0257191\n",
      "Sigmabeta true value: 0.0428133\n",
      "Sigmabeta from optimization: 0.0388816\n",
      "Sigmabeta true value: 0.078476\n",
      "Sigmabeta from optimization: 0.0888624\n",
      "Sigmabeta true value: 0.143845\n",
      "Sigmabeta from optimization: 0.13434\n",
      "Sigmabeta true value: 0.263665\n",
      "Sigmabeta from optimization: 0.307029\n",
      "Sigmabeta true value: 0.483293\n",
      "Sigmabeta from optimization: 0.464159\n",
      "Sigmabeta true value: 0.885867\n",
      "Sigmabeta from optimization: 1.06082\n",
      "Sigmabeta true value: 1.62378\n",
      "Sigmabeta from optimization: 1.60372\n",
      "Sigmabeta true value: 2.97635\n",
      "Sigmabeta from optimization: 2.42446\n",
      "Sigmabeta true value: 5.45559\n",
      "Sigmabeta from optimization: 5.54102\n",
      "Sigmabeta true value: 10\n",
      "Sigmabeta from optimization: 12.6638\n"
     ]
    }
   ],
   "source": [
    "true_sigmabeta = np.logspace(-4, 1, 20)\n",
    "best_sigmabeta = np.zeros_like(true_sigmabeta)\n",
    "nsnp = 10\n",
    "for i, sigmabeta in enumerate(true_sigmabeta):\n",
    "    sigmax = np.linspace(0, 0.4, nsnp)\n",
    "    X, Y = simulate(sigmabeta, sigmax)\n",
    "    print(\"Sigmabeta true value: {:g}\".format(sigmabeta))\n",
    "    sigmabeta_seq = np.logspace(-5, 2, 40)\n",
    "    best_sigmabeta[i] = find_best_sigmabeta(X, Y, sigmabeta_seq)[1]"
   ]
  },
  {
   "cell_type": "code",
   "execution_count": 19,
   "metadata": {},
   "outputs": [
    {
     "data": {
      "image/png": "[encoded data removed]",
      "text/plain": [
       "<matplotlib.figure.Figure at 0x7f97e1655588>"
      ]
     },
     "metadata": {},
     "output_type": "display_data"
    }
   ],
   "source": [
    "fig = plt.figure()\n",
    "ax1 = fig.add_subplot(111)\n",
    "ax1.scatter(np.log10(true_sigmabeta), np.log10(best_sigmabeta))\n",
    "ax1.plot(np.log10(true_sigmabeta), np.log10(true_sigmabeta), color='gray')\n",
    "plt.show()"
   ]
  },
  {
   "cell_type": "code",
   "execution_count": 20,
   "metadata": {},
   "outputs": [
    {
     "name": "stdout",
     "output_type": "stream",
     "text": [
      "Sigmabeta from optimization: 0.26827\n"
     ]
    }
   ],
   "source": [
    "true_sigmabeta = 0.2\n",
    "sigmax = np.linspace(0, 0.4, 10)\n",
    "X, Y = simulate(true_sigmabeta, sigmax)\n",
    "sigmabeta = np.logspace(-10, 4, 50)\n",
    "ysimp, best_sigmabeta = find_best_sigmabeta(X, Y, sigmabeta)"
   ]
  },
  {
   "cell_type": "code",
   "execution_count": 21,
   "metadata": {},
   "outputs": [
    {
     "name": "stdout",
     "output_type": "stream",
     "text": [
      "True value: -0.69897\n",
      "Best value: -0.571429\n"
     ]
    },
    {
     "data": {
      "image/png": "[encoded data removed]",
      "text/plain": [
       "<matplotlib.figure.Figure at 0x7f97e16e9438>"
      ]
     },
     "metadata": {},
     "output_type": "display_data"
    }
   ],
   "source": [
    "fig = plt.figure()\n",
    "ax1 = fig.add_subplot(111)\n",
    "\n",
    "ax1.scatter(np.log10(sigmabeta), ysimp, label = 'Calculated')\n",
    "ax1.axvline(x = np.log10(true_sigmabeta), label = 'True')\n",
    "ax1.axvline(x = np.log10(best_sigmabeta), color = 'salmon', label = 'Best')\n",
    "print(\"True value: {:g}\".format(np.log10(true_sigmabeta)))\n",
    "print(\"Best value: {:g}\".format(np.log10(best_sigmabeta)))\n",
    "#ax1.set_ylim([-1200, -1000])\n",
    "\n",
    "plt.legend(loc = 'upper left')\n",
    "plt.show()"
   ]
  },
  {
   "cell_type": "code",
   "execution_count": null,
   "metadata": {
    "collapsed": true
   },
   "outputs": [],
   "source": []
  },
  {
   "cell_type": "code",
   "execution_count": null,
   "metadata": {},
   "outputs": [],
   "source": []
  }
 ],
 "metadata": {
  "kernelspec": {
   "display_name": "Python 3",
   "language": "python",
   "name": "python3"
  },
  "language_info": {
   "codemirror_mode": {
    "name": "ipython",
    "version": 3
   },
   "file_extension": ".py",
   "mimetype": "text/x-python",
   "name": "python",
   "nbconvert_exporter": "python",
   "pygments_lexer": "ipython3",
   "version": "3.6.4"
  }
 },
 "nbformat": 4,
 "nbformat_minor": 2
}
