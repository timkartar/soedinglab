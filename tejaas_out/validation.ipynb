{
 "cells": [
  {
   "cell_type": "code",
   "execution_count": 126,
   "metadata": {},
   "outputs": [],
   "source": [
    "from pathlib import Path\n",
    "import matplotlib.pyplot as plt\n",
    "import numpy as np\n",
    "from tqdm import tqdm\n",
    "import random\n",
    "import operator\n",
    "import mpmath\n",
    "mpmath.mp.dps = 500\n",
    "def pval(x): return -mpmath.log10(1 - 0.5 * (1 + mpmath.erf(x/mpmath.sqrt(2))))\n",
    "\n",
    "kelly_colors_hex = [\n",
    "    '#FFB300', # Vivid Yellow\n",
    "    '#803E75', # Strong Purple\n",
    "    '#FF6800', # Vivid Orange\n",
    "    '#A6BDD7', # Very Light Blue\n",
    "    '#C10020', # Vivid Red\n",
    "    '#CEA262', # Grayish Yellow\n",
    "    '#817066', # Medium Gray\n",
    "\n",
    "    # The following don't work well for people with defective color vision\n",
    "    '#007D34', # Vivid Green\n",
    "    '#F6768E', # Strong Purplish Pink\n",
    "    '#00538A', # Strong Blue\n",
    "    '#FF7A5C', # Strong Yellowish Pink\n",
    "    '#53377A', # Strong Violet\n",
    "    '#FF8E00', # Vivid Orange Yellow\n",
    "    '#B32851', # Strong Purplish Red\n",
    "    '#F4C800', # Vivid Greenish Yellow\n",
    "    '#7F180D', # Strong Reddish Brown\n",
    "    '#93AA00', # Vivid Yellowish Green\n",
    "    '#593315', # Deep Yellowish Brown\n",
    "    '#F13A13', # Vivid Reddish Orange\n",
    "    '#232C16', # Dark Olive Green\n",
    "    ]\n",
    "kch = kelly_colors_hex #['red' for i in range(200)]\n",
    "figsize = (5, 5)\n",
    "#axis_font_size = 15\n",
    "#label_font_size = 20\n",
    "#legend_font_size = 15\n",
    "#fig = plt.figure(figsize=figsize)\n",
    "#ax = fig.add_subplot(111)\n",
    "#ax.axhline(y=-np.log10(0.00000005), ls='dashed', color = 'darkgrey', lw=2)\n",
    "\n",
    "colors = kch#[kch[1], kch[2], kch[19]]\n",
    "bgcolors = ['#FFB300','#00538A','#007D34','#B32851','#232C16' ]\n",
    "lastbp = 0\n",
    "xlabels = list()\n",
    "xlabels_pos = list()\n",
    "gtex_dict = dict()\n",
    "cardio_dict = dict()\n",
    "shuf_cardio_dict = dict()\n",
    "\n",
    "\n",
    "chr_list = list(range(4)) + list(range(5,22))\n",
    "for i in tqdm(range(0,1)):\n",
    "    print(i)\n",
    "    chrm = i + 1\n",
    "    dirc = Path.cwd()/('output/chr' + str(chrm))\n",
    "    pths = [pth for pth in dirc.iterdir() if \"_rr.txt\" in pth.name]\n",
    "#     for pth in pths:\n",
    "#         l = open(str(pth),\"r\").readlines()\n",
    "#         rsids = [line.split(\"\\t\")[0] for line in l[1:]]\n",
    "#         pvals = [-np.log10(float(line.split(\"\\t\")[5])) if float(line.split(\"\\t\")[5])!=0 \n",
    "#                  else pval((float(line.split(\"\\t\")[2])-float(line.split(\"\\t\")[3]))/float(line.split(\"\\t\")[4]))\n",
    "#                  for line in l[1:]]\n",
    "#         for i in range(len(rsids)):\n",
    "#             gtex_dict[rsids[i]] = pvals[i]\n",
    "\n",
    "    dirc = Path.cwd()/('cardio_output/chr' + str(chrm))\n",
    "    pths = [pth for pth in dirc.iterdir() if \"_rr.txt\" in pth.name]\n",
    "    for pth in pths:\n",
    "        l = open(str(pth),\"r\").readlines()\n",
    "        rsids = [line.split(\"\\t\")[0] for line in l[1:]]\n",
    "        pvals = [-np.log10(float(line.split(\"\\t\")[5])) if float(line.split(\"\\t\")[5])!=0 \n",
    "                 else pval((float(line.split(\"\\t\")[2])-float(line.split(\"\\t\")[3]))/float(line.split(\"\\t\")[4]))\n",
    "                for line in l[1:]]\n",
    "        for i in range(len(rsids)):\n",
    "            cardio_dict[rsids[i]] = pvals[i]\n",
    "    \n",
    "#     dirc = Path.cwd()/('shuf_cardio_output/chr' + str(chrm))\n",
    "#     pths = [pth for pth in dirc.iterdir() if \"_rr.txt\" in pth.name]\n",
    "#     for pth in pths:\n",
    "#         l = open(str(pth),\"r\").readlines()\n",
    "#         rsids = [line.split(\"\\t\")[0] for line in l[1:]]\n",
    "#         pvals = [-np.log10(float(line.split(\"\\t\")[5])) if float(line.split(\"\\t\")[5])!=0 \n",
    "#                 else pval((float(line.split(\"\\t\")[2])-float(line.split(\"\\t\")[3]))/float(line.split(\"\\t\")[4]))\n",
    "#                 for line in l[1:]]\n",
    "#         for i in range(len(rsids)):\n",
    "#             shuf_cardio_dict[rsids[i]] = pvals[i]\n",
    "\n",
    "\n",
    "blacklist = open(\"cardio_output/x\",\"r\").readlines()\n",
    "for i in blacklist:\n",
    "    try:\n",
    "        del cardio_dict[i[:-1]]\n",
    "        del shuf_cardio_dict[i[:-1]]\n",
    "    except:\n",
    "        pass\n",
    "\n",
    "cardio_snps = len(cardio_dict.keys())\n",
    "cardio_tuples = sorted(cardio_dict.items(), key=operator.itemgetter(1),reverse=True)\n",
    "\n",
    "shuf_cardio_snps = len(shuf_cardio_dict.keys())\n",
    "shuf_cardio_tuples = sorted(shuf_cardio_dict.items(), key=operator.itemgetter(1),reverse=True)\n",
    "\n",
    "random_check_snps = list(cardio_dict.keys())\n",
    "\n",
    "random.shuffle(random_check_snps)"
   ]
  },
  {
   "cell_type": "code",
   "execution_count": null,
   "metadata": {},
   "outputs": [],
   "source": []
  },
  {
   "cell_type": "code",
   "execution_count": 127,
   "metadata": {},
   "outputs": [],
   "source": [
    "toplot = []\n",
    "random_toplot = []\n",
    "shuf_toplot = []\n",
    "check_x = []\n",
    "check_random_x = []\n",
    "check_shuf_x = []\n",
    "\n",
    "sig_thres = -np.log10(0.05)\n",
    "positives = []\n",
    "i = 0 \n",
    "\n",
    "while(i < cardio_snps):\n",
    "    try:\n",
    "        if(gtex_dict[cardio_tuples[i][0]] > sig_thres):\n",
    "            positives.append(i)\n",
    "    except:\n",
    "        pass\n",
    "    i = i + 1\n",
    "    while(i < cardio_snps and cardio_tuples[i][1] == cardio_tuples[i-1][1]):\n",
    "        try:\n",
    "            if(gtex_dict[cardio_tuples[i][0]] > sig_thres):\n",
    "                positives.append(i)\n",
    "        except:\n",
    "            pass\n",
    "        i = i + 1\n",
    "    check_x.append(i)\n",
    "    \n",
    "    toplot.append(len(positives))\n",
    "\n",
    "\n",
    "shuf_cardio_positives = []\n",
    "i = 0\n",
    "\n",
    "while(i < shuf_cardio_snps):\n",
    "    try:\n",
    "        if(gtex_dict[shuf_cardio_tuples[i][0]] > sig_thres):\n",
    "            shuf_cardio_positives.append(i)\n",
    "    except:\n",
    "        pass\n",
    "    i = i + 1\n",
    "    while(i < shuf_cardio_snps and shuf_cardio_tuples[i][1] == shuf_cardio_tuples[i-1][1]):\n",
    "        try:\n",
    "            if(gtex_dict[shuf_cardio_tuples[i][0]] > sig_thres):\n",
    "                shuf_cardio_positives.append(i)\n",
    "        except:\n",
    "            pass\n",
    "        i = i + 1\n",
    "    check_shuf_x.append(i)\n",
    "    \n",
    "    shuf_toplot.append(len(shuf_cardio_positives))\n",
    "\n",
    "random_positives = []\n",
    "i =0\n",
    "while(i < cardio_snps):\n",
    "    try:\n",
    "        if(gtex_dict[random_check_snps[i]] > sig_thres):\n",
    "            random_positives.append(i)\n",
    "    except:\n",
    "        pass\n",
    "    i = i + 1 \n",
    "    while(i < cardio_snps and cardio_dict[random_check_snps[i]] == cardio_dict[random_check_snps[i-1]]):\n",
    "        try:\n",
    "            if(gtex_dict[random_check_snps[i]] > sig_thres):\n",
    "                random_positives.append(i)\n",
    "        except:\n",
    "            pass\n",
    "        i = i + 1\n",
    "    check_random_x.append(i)\n",
    "    \n",
    "    random_toplot.append(len(random_positives))"
   ]
  },
  {
   "cell_type": "code",
   "execution_count": 128,
   "metadata": {},
   "outputs": [
    {
     "data": {
      "image/png": "[encoded data removed]",
      "text/plain": [
       "<matplotlib.figure.Figure at 0x7f1f6ad79cf8>"
      ]
     },
     "metadata": {},
     "output_type": "display_data"
    }
   ],
   "source": [
    "#plt.xlim([1500000, 3000000])\n",
    "#plt.ylim([75000,175000])\n",
    "plt.figure(figsize = (6, 6))\n",
    "k = 0\n",
    "m = 10000\n",
    "offset = 10000\n",
    "plt.title('Predicted on Cardiogenics, validated on GTEx')\n",
    "plt.plot(check_x[k:m],toplot[k:m], label='TEJAAS')\n",
    "plt.plot(check_random_x[k:m+offset], random_toplot[k:m+offset], label='Random SNPs')\n",
    "plt.plot(check_shuf_x[k:m+offset], shuf_toplot[k:m+offset], label='TEJAAS on Shuffled genotype')\n",
    "plt.tight_layout()\n",
    "plt.legend()\n",
    "plt.xlabel(\"# of SNPs\")\n",
    "plt.ylabel(\"# of validated SNPs\")\n",
    "\n",
    "plt.savefig(\"chr1_cardio_gtex_comparison_001.png\", bbox_inches='tight')\n",
    "\n",
    "#plt.ylim([0, 1000])\n",
    "plt.show()"
   ]
  },
  {
   "cell_type": "code",
   "execution_count": 32,
   "metadata": {},
   "outputs": [
    {
     "data": {
      "text/plain": [
       "[10, 12, 13, 14, 15, 16, 17, 19, 41, 42]"
      ]
     },
     "execution_count": 32,
     "metadata": {},
     "output_type": "execute_result"
    }
   ],
   "source": [
    "check_x[:10]"
   ]
  },
  {
   "cell_type": "code",
   "execution_count": 33,
   "metadata": {},
   "outputs": [
    {
     "data": {
      "text/plain": [
       "[0, 0, 0, 0, 0, 0, 0, 0, 0, 0]"
      ]
     },
     "execution_count": 33,
     "metadata": {},
     "output_type": "execute_result"
    }
   ],
   "source": [
    "toplot[:10]"
   ]
  },
  {
   "cell_type": "code",
   "execution_count": 22,
   "metadata": {},
   "outputs": [],
   "source": [
    "\n",
    "odd_snps = [i[0] for i in cardio_tuples[:8886]]\n"
   ]
  },
  {
   "cell_type": "code",
   "execution_count": 23,
   "metadata": {},
   "outputs": [],
   "source": [
    "l = list(set(gtex_dict.keys()).intersection(odd_snps))\n",
    "# f = open(\"odd_snps.txt\",\"w\")\n",
    "# f.write(\"\\n\".join(l))\n",
    "# f.close()"
   ]
  },
  {
   "cell_type": "code",
   "execution_count": 28,
   "metadata": {},
   "outputs": [
    {
     "name": "stdout",
     "output_type": "stream",
     "text": [
      "534\n"
     ]
    }
   ],
   "source": [
    "check = 0\n",
    "for i in l:\n",
    "    if(gtex_dict[i] > -np.log10(0.05)):\n",
    "        check +=1\n",
    "print(check)"
   ]
  },
  {
   "cell_type": "code",
   "execution_count": null,
   "metadata": {},
   "outputs": [],
   "source": [
    "import scipy.stats\n",
    "import mpmath"
   ]
  },
  {
   "cell_type": "code",
   "execution_count": null,
   "metadata": {},
   "outputs": [],
   "source": [
    "scipy.stats.norm.cdf(0.353151, loc=0.169233, scale=0.0204404)"
   ]
  },
  {
   "cell_type": "code",
   "execution_count": 57,
   "metadata": {},
   "outputs": [
    {
     "data": {
      "text/plain": [
       "[('rs4725943',\n",
       "  mpf('57.750808419586095074008247920831913179392603756687373593944330561007200844280322291332080322546389100390320093576161096479541839547033540651165857444241957940344898910721879379739201912384431156943050549229874774755062466913970182401643599128996912733457845334644271322087767006474359791166265613110390921038102336095884312545965102998755863785206150355606307053843643882653108549242009042538639244623204299377037243293119913557689085912630113613540111906293643964749416440936782089380521222507860109792'))]"
      ]
     },
     "execution_count": 57,
     "metadata": {},
     "output_type": "execute_result"
    }
   ],
   "source": [
    "cardio_tuples[:1]"
   ]
  },
  {
   "cell_type": "code",
   "execution_count": 15,
   "metadata": {},
   "outputs": [
    {
     "data": {
      "text/plain": [
       "[0, 1, 2, 3, 4, 6, 7, 8, 9, 10, 11, 12, 13, 14, 15, 16, 17, 18, 19, 20, 21]"
      ]
     },
     "execution_count": 15,
     "metadata": {},
     "output_type": "execute_result"
    }
   ],
   "source": []
  },
  {
   "cell_type": "code",
   "execution_count": 1,
   "metadata": {},
   "outputs": [],
   "source": [
    "  #pvals = [-np.log10(float(line.split(\"\\t\")[5])) if float(line.split(\"\\t\")[5])!=0 \n",
    "  #               else pval((float(line.split(\"\\t\")[2])-float(line.split(\"\\t\")[3]))/float(line.split(\"\\t\")[4]))\n",
    "  #               for line in l[1:]]/"
   ]
  },
  {
   "cell_type": "code",
   "execution_count": 4,
   "metadata": {},
   "outputs": [
    {
     "data": {
      "text/plain": [
       "array([0.0001    , 0.00021544, 0.00046416, 0.001     , 0.00215443,\n",
       "       0.00464159, 0.01      , 0.02154435, 0.04641589, 0.1       ])"
      ]
     },
     "execution_count": 4,
     "metadata": {},
     "output_type": "execute_result"
    }
   ],
   "source": [
    "import numpy as np\n",
    "np.logspace(-4,-1, 10)"
   ]
  },
  {
   "cell_type": "code",
   "execution_count": null,
   "metadata": {},
   "outputs": [],
   "source": []
  }
 ],
 "metadata": {
  "kernelspec": {
   "display_name": "Python 3",
   "language": "python",
   "name": "python3"
  },
  "language_info": {
   "codemirror_mode": {
    "name": "ipython",
    "version": 3
   },
   "file_extension": ".py",
   "mimetype": "text/x-python",
   "name": "python",
   "nbconvert_exporter": "python",
   "pygments_lexer": "ipython3",
   "version": "3.6.4"
  }
 },
 "nbformat": 4,
 "nbformat_minor": 2
}
