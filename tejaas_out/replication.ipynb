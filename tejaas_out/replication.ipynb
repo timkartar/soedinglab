{
 "cells": [
  {
   "cell_type": "code",
   "execution_count": 19,
   "metadata": {},
   "outputs": [
    {
     "name": "stderr",
     "output_type": "stream",
     "text": [
      "100%|██████████| 22/22 [00:27<00:00,  1.26s/it]\n"
     ]
    }
   ],
   "source": [
    "from pathlib import Path\n",
    "import matplotlib.pyplot as plt\n",
    "import numpy as np\n",
    "from tqdm import tqdm\n",
    "import random\n",
    "import operator\n",
    "import mpmath\n",
    "mpmath.mp.dps = 500\n",
    "def pval(x): return -mpmath.log10(1 - 0.5 * (1 + mpmath.erf(x/mpmath.sqrt(2))))\n",
    "\n",
    "kelly_colors_hex = [\n",
    "    '#FFB300', # Vivid Yellow\n",
    "    '#803E75', # Strong Purple\n",
    "    '#FF6800', # Vivid Orange\n",
    "    '#A6BDD7', # Very Light Blue\n",
    "    '#C10020', # Vivid Red\n",
    "    '#CEA262', # Grayish Yellow\n",
    "    '#817066', # Medium Gray\n",
    "\n",
    "    # The following don't work well for people with defective color vision\n",
    "    '#007D34', # Vivid Green\n",
    "    '#F6768E', # Strong Purplish Pink\n",
    "    '#00538A', # Strong Blue\n",
    "    '#FF7A5C', # Strong Yellowish Pink\n",
    "    '#53377A', # Strong Violet\n",
    "    '#FF8E00', # Vivid Orange Yellow\n",
    "    '#B32851', # Strong Purplish Red\n",
    "    '#F4C800', # Vivid Greenish Yellow\n",
    "    '#7F180D', # Strong Reddish Brown\n",
    "    '#93AA00', # Vivid Yellowish Green\n",
    "    '#593315', # Deep Yellowish Brown\n",
    "    '#F13A13', # Vivid Reddish Orange\n",
    "    '#232C16', # Dark Olive Green\n",
    "    ]\n",
    "kch = kelly_colors_hex #['red' for i in range(200)]\n",
    "figsize = (5, 5)\n",
    "#axis_font_size = 15\n",
    "#label_font_size = 20\n",
    "#legend_font_size = 15\n",
    "#fig = plt.figure(figsize=figsize)\n",
    "#ax = fig.add_subplot(111)\n",
    "#ax.axhline(y=-np.log10(0.00000005), ls='dashed', color = 'darkgrey', lw=2)\n",
    "\n",
    "colors = kch#[kch[1], kch[2], kch[19]]\n",
    "bgcolors = ['#FFB300','#00538A','#007D34','#B32851','#232C16' ]\n",
    "lastbp = 0\n",
    "xlabels = list()\n",
    "xlabels_pos = list()\n",
    "gtex_dict = dict()\n",
    "cardio_dict = dict()\n",
    "shuf_cardio_dict = dict()\n",
    "\n",
    "\n",
    "chr_list = list(range(4)) + list(range(5,22))\n",
    "for i in tqdm(range(22)):\n",
    "#    print(i)\n",
    "    chrm = i + 1\n",
    "#     dirc = Path.cwd()/('output/chr' + str(chrm))\n",
    "#     pths = [pth for pth in dirc.iterdir() if \"_rr.txt\" in pth.name]\n",
    "    dirc = Path.cwd()/('cardio_maf_output/chr' + str(chrm))\n",
    "    pths = [pth for pth in dirc.iterdir() if \"_rr.txt\" in pth.name]\n",
    "    for pth in pths:\n",
    "        l = open(str(pth),\"r\").readlines()\n",
    "        rsids = [line.split(\"\\t\")[0] for line in l[1:]]\n",
    "        pvals = [-np.log10(float(line.split(\"\\t\")[5])) if float(line.split(\"\\t\")[5])!=0 \n",
    "                 else pval((float(line.split(\"\\t\")[2])-float(line.split(\"\\t\")[3]))/float(line.split(\"\\t\")[4]))\n",
    "                for line in l[1:]]\n",
    "        for i in range(len(rsids)):\n",
    "            cardio_dict[rsids[i]] = pvals[i]"
   ]
  },
  {
   "cell_type": "code",
   "execution_count": 20,
   "metadata": {},
   "outputs": [
    {
     "data": {
      "text/plain": [
       "'rs2151163'"
      ]
     },
     "execution_count": 20,
     "metadata": {},
     "output_type": "execute_result"
    }
   ],
   "source": [
    "list(cardio_dict.keys())[0]"
   ]
  },
  {
   "cell_type": "code",
   "execution_count": 21,
   "metadata": {},
   "outputs": [
    {
     "name": "stdout",
     "output_type": "stream",
     "text": [
      "958973\n"
     ]
    }
   ],
   "source": [
    "#gtex official v7\n",
    "gtex = open(\"/home/raktim/eqtl_results/gtex_results/processed_gtex_v7_cis.txt\",\"r\").read().split(\"\\n\")\n",
    "gtex_snps = []\n",
    "for line in gtex[1:]:\n",
    "    gtex_snps.append(line.split(\"\\t\")[1])\n",
    "print(len(gtex_snps))\n",
    "gtex_snps = list(set(gtex_snps))"
   ]
  },
  {
   "cell_type": "code",
   "execution_count": 22,
   "metadata": {},
   "outputs": [
    {
     "name": "stdout",
     "output_type": "stream",
     "text": [
      "18445\n"
     ]
    }
   ],
   "source": [
    "#FHS results\n",
    "fhs = open(\"/home/raktim/eqtl_results/heart_results/processed_fhs_results_cis_only_rsid.txt\",\"r\").read().split(\"\\n\")\n",
    "fhs_snps = []\n",
    "for line in fhs[1:]:\n",
    "    fhs_snps.append(line.split(\"\\t\")[0])\n",
    "print(len(fhs_snps))\n",
    "fhs_snps = list(set(fhs_snps))"
   ]
  },
  {
   "cell_type": "code",
   "execution_count": 23,
   "metadata": {},
   "outputs": [
    {
     "name": "stdout",
     "output_type": "stream",
     "text": [
      "\n"
     ]
    }
   ],
   "source": [
    "#rick jansen cis\n",
    "rickj = open(\"/home/raktim/eqtl_results/RickJansen_results/cis_eQTL_table_conditional_ALL\",\"r\").read().split(\"\\n\")\n",
    "rickj_snps = []\n",
    "for line in rickj[1:]:\n",
    "    try:\n",
    "        rickj_snps.append(line.split(\"\\t\")[2])\n",
    "    except:\n",
    "        print(line)\n",
    "rickj_snps = list(set(rickj_snps))"
   ]
  },
  {
   "cell_type": "code",
   "execution_count": 24,
   "metadata": {},
   "outputs": [
    {
     "name": "stdout",
     "output_type": "stream",
     "text": [
      "\n"
     ]
    }
   ],
   "source": [
    "#rick jansen trans\n",
    "rickj_trans = open(\"/home/raktim/eqtl_results/RickJansen_results/trans_eQTL_table_conditional_ALL\",\"r\").read().split(\"\\n\")\n",
    "rickj_trans = []\n",
    "for line in rickj[1:]:\n",
    "    try:\n",
    "        rickj_trans.append(line.split(\"\\t\")[2])\n",
    "    except:\n",
    "        print(line)\n",
    "rickj_trans = list(set(rickj_trans))"
   ]
  },
  {
   "cell_type": "code",
   "execution_count": 25,
   "metadata": {},
   "outputs": [],
   "source": [
    "#schulz\n",
    "schulz = open(\"/home/raktim/eqtl_results/schulz_results/processed_schulz_eqtls_thres_0_05.txt\",\"r\").read().split(\"\\n\")\n",
    "schulz_snps = []\n",
    "for line in schulz[1:]:\n",
    "    try:\n",
    "        schulz_snps.append(line.split(\"\\t\")[0])\n",
    "    except:\n",
    "        print(line)\n",
    "schulz_snps = list(set(schulz_snps))"
   ]
  },
  {
   "cell_type": "code",
   "execution_count": 26,
   "metadata": {},
   "outputs": [],
   "source": [
    "#westra cis\n",
    "westra = open(\"/home/raktim/eqtl_results/westra_results/processed_westra_cis_eqtls_rsid_only\",\"r\").read().split(\"\\n\")\n",
    "westra_cis = []\n",
    "for line in westra[1:]:\n",
    "    try:\n",
    "        westra_cis.append(line.split(\"\\t\")[0])\n",
    "    except:\n",
    "        print(line)\n",
    "westra_cis = list(set(westra_cis))"
   ]
  },
  {
   "cell_type": "code",
   "execution_count": 27,
   "metadata": {},
   "outputs": [],
   "source": [
    "#kristen trans\n",
    "kristen = open(\"/home/raktim/eqtl_results/kristen/ddv194_Supplementary_Data/processed_trans_snps_only.txt\",\"r\").read().split(\"\\n\")\n",
    "kristen_trans = []\n",
    "for line in kristen[1:]:\n",
    "    try:\n",
    "        kristen_trans.append(line.split(\"\\t\")[0])\n",
    "    except:\n",
    "        print(line)\n",
    "kristen_trans = list(set(kristen_trans))"
   ]
  },
  {
   "cell_type": "code",
   "execution_count": null,
   "metadata": {},
   "outputs": [],
   "source": []
  },
  {
   "cell_type": "code",
   "execution_count": 30,
   "metadata": {},
   "outputs": [
    {
     "name": "stdout",
     "output_type": "stream",
     "text": [
      "327417\n"
     ]
    }
   ],
   "source": [
    "test = kristen_trans\n",
    "check_snps = list(set(cardio_dict.keys()).intersection(test))\n",
    "print(len(test))"
   ]
  },
  {
   "cell_type": "code",
   "execution_count": 31,
   "metadata": {},
   "outputs": [
    {
     "name": "stdout",
     "output_type": "stream",
     "text": [
      "0.08189432787341239\n",
      "18254 222897\n"
     ]
    }
   ],
   "source": [
    "replicated = []\n",
    "thres      = 0.05\n",
    "for snp in check_snps:\n",
    "    if(cardio_dict[snp] > -np.log10(thres)):\n",
    "        replicated.append(snp)\n",
    "print(len(replicated)/len(check_snps))\n",
    "print(len(replicated), len(check_snps))"
   ]
  },
  {
   "cell_type": "code",
   "execution_count": null,
   "metadata": {},
   "outputs": [],
   "source": []
  },
  {
   "cell_type": "code",
   "execution_count": null,
   "metadata": {},
   "outputs": [],
   "source": [
    "/home/raktim/eqtl_results/kristen/ddv194_Supplementary_Data/processed_trans_snps_only.txt"
   ]
  }
 ],
 "metadata": {
  "kernelspec": {
   "display_name": "Python 3",
   "language": "python",
   "name": "python3"
  },
  "language_info": {
   "codemirror_mode": {
    "name": "ipython",
    "version": 3
   },
   "file_extension": ".py",
   "mimetype": "text/x-python",
   "name": "python",
   "nbconvert_exporter": "python",
   "pygments_lexer": "ipython3",
   "version": "3.6.4"
  }
 },
 "nbformat": 4,
 "nbformat_minor": 2
}
