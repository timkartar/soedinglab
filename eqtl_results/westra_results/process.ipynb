{
 "cells": [
  {
   "cell_type": "code",
   "execution_count": 1,
   "metadata": {},
   "outputs": [],
   "source": [
    "import numpy as np"
   ]
  },
  {
   "cell_type": "code",
   "execution_count": 2,
   "metadata": {},
   "outputs": [],
   "source": [
    "f = open(\"/home/raktim/eqtl_results/westra_results/2012-12-21-CisAssociationsProbeLevelFDR0.5.txt\").readlines()"
   ]
  },
  {
   "cell_type": "code",
   "execution_count": 3,
   "metadata": {},
   "outputs": [
    {
     "data": {
      "text/plain": [
       "['PValue\\tSNPName\\tSNPChr\\tSNPChrPos\\tProbeName\\tProbeChr\\tProbeCenterChrPos\\tCisTrans\\tSNPType\\tAlleleAssessed\\tOverallZScore\\tDatasetsWhereSNPProbePairIsAvailableAndPassesQC\\tDatasetsZScores\\tHUGO\\tFDR\\n',\n",
       " '9.813427854297537E-198\\trs7807018\\t7\\t128427424\\t2230431\\t7\\t128377239\\tcis\\tG/A\\tA\\t81.2217001560417\\tEGCUT,SHIP_TREND,Groningen-HT12,-,Rotterdam,DILGOM,INCHIANTI,HVH-HT12v3,-\\t37.25714,34.59495,38.431374,-,32.610508,25.361496,28.475523,5.935472,-\\tIRF5\\t0.0\\n']"
      ]
     },
     "execution_count": 3,
     "metadata": {},
     "output_type": "execute_result"
    }
   ],
   "source": [
    "f[:2]"
   ]
  },
  {
   "cell_type": "code",
   "execution_count": 4,
   "metadata": {},
   "outputs": [],
   "source": [
    "out = open(\"processed_westra_cis_eqtls_rsid_only\",\"w\")\n",
    "out.write(\"rsid\")\n",
    "for line in f[1:]:\n",
    "    l = line.split(\"\\t\")\n",
    "    rsid = l[1]\n",
    "    out.write(\"\\n\" + rsid)\n",
    "out.close()"
   ]
  },
  {
   "cell_type": "code",
   "execution_count": 5,
   "metadata": {},
   "outputs": [],
   "source": [
    "f = open(\"/home/raktim/eqtl_results/westra_results/2012-12-21-TransEQTLsFDR0.5.txt\").readlines()"
   ]
  },
  {
   "cell_type": "code",
   "execution_count": 6,
   "metadata": {},
   "outputs": [],
   "source": [
    "out = open(\"processed_westra_trans_eqtls_rsid_only\",\"w\")\n",
    "out.write(\"rsid\")\n",
    "for line in f[1:]:\n",
    "    l = line.split(\"\\t\")\n",
    "    rsid = l[1]\n",
    "    out.write(\"\\n\" + rsid)\n",
    "out.close()"
   ]
  },
  {
   "cell_type": "code",
   "execution_count": null,
   "metadata": {},
   "outputs": [],
   "source": []
  }
 ],
 "metadata": {
  "kernelspec": {
   "display_name": "Python 3",
   "language": "python",
   "name": "python3"
  },
  "language_info": {
   "codemirror_mode": {
    "name": "ipython",
    "version": 3
   },
   "file_extension": ".py",
   "mimetype": "text/x-python",
   "name": "python",
   "nbconvert_exporter": "python",
   "pygments_lexer": "ipython3",
   "version": "3.6.4"
  }
 },
 "nbformat": 4,
 "nbformat_minor": 2
}
