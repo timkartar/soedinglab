{
 "cells": [
  {
   "cell_type": "code",
   "execution_count": 2,
   "metadata": {},
   "outputs": [],
   "source": [
    "import numpy as np\n",
    "import pygtrie"
   ]
  },
  {
   "cell_type": "code",
   "execution_count": 6,
   "metadata": {},
   "outputs": [],
   "source": [
    "table = open(\"/home/raktim/Downloads/ILMN_2_ENSEMBL.txt\").readlines()\n",
    "t = pygtrie.StringTrie()\n",
    "for line in table[1:]:\n",
    "    l = line.split(\" \")\n",
    "    il = l[0]\n",
    "    ens = l[1]\n",
    "    if(ens != \"NA\"):\n",
    "        t[il] = ens[:-1]\n"
   ]
  },
  {
   "cell_type": "code",
   "execution_count": 7,
   "metadata": {},
   "outputs": [],
   "source": [
    "f = open(\"/home/raktim/eqtl_results/schulz_results/NatCommun_Schulz2017_ImputedSNPs_eQTLs.txt\").readlines()"
   ]
  },
  {
   "cell_type": "code",
   "execution_count": 9,
   "metadata": {},
   "outputs": [
    {
     "data": {
      "text/plain": [
       "['SNP\\tgene\\tbeta\\tt-stat\\tp-value\\n',\n",
       " 'rs3094315\\tILMN_1754841\\t-0.0128559971964971\\t-0.879433658620058\\t0.381274613410397\\n']"
      ]
     },
     "execution_count": 9,
     "metadata": {},
     "output_type": "execute_result"
    }
   ],
   "source": [
    "f[:2]"
   ]
  },
  {
   "cell_type": "code",
   "execution_count": 11,
   "metadata": {},
   "outputs": [],
   "source": [
    "out = open(\"processed_schulz_eqtls_thres_0_05.txt\",\"w\")\n",
    "out.write(\"rsid\\tgeneid\\tpval\\n\")\n",
    "towrite = []\n",
    "for line in f[1:]:\n",
    "    l = line.split(\"\\t\")\n",
    "    pval = l[4][:-1]\n",
    "    if(float(pval) > 0.05):\n",
    "        continue\n",
    "    rsid = l[0]\n",
    "    try:\n",
    "        geneid = t[l[1]]\n",
    "    except:\n",
    "        continue\n",
    "    towrite.append(rsid + \"\\t\" + geneid + \"\\t\" + pval)\n",
    "out.write(\"\\n\".join(towrite))\n",
    "out.close()"
   ]
  },
  {
   "cell_type": "code",
   "execution_count": null,
   "metadata": {},
   "outputs": [],
   "source": []
  }
 ],
 "metadata": {
  "kernelspec": {
   "display_name": "Python 3",
   "language": "python",
   "name": "python3"
  },
  "language_info": {
   "codemirror_mode": {
    "name": "ipython",
    "version": 3
   },
   "file_extension": ".py",
   "mimetype": "text/x-python",
   "name": "python",
   "nbconvert_exporter": "python",
   "pygments_lexer": "ipython3",
   "version": "3.6.4"
  }
 },
 "nbformat": 4,
 "nbformat_minor": 2
}
