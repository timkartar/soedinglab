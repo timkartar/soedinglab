{
 "cells": [
  {
   "cell_type": "code",
   "execution_count": 4,
   "metadata": {},
   "outputs": [],
   "source": [
    "import numpy as np\n",
    "import pygtrie"
   ]
  },
  {
   "cell_type": "code",
   "execution_count": 2,
   "metadata": {},
   "outputs": [],
   "source": [
    "f = open(\"Whole_Blood.v7.signifpairs.txt\", \"r\").readlines()\n",
    "lookup_table = open(\"/home/raktim/eqtl_results/GTEx_Analysis_2015-01-12_OMNI_2.5M_5M_450Indiv_chr1to22_genot_imput_info04_maf01_HWEp1E6_VarID_Lookup_Table.txt\",\"r\").readlines()"
   ]
  },
  {
   "cell_type": "code",
   "execution_count": 5,
   "metadata": {},
   "outputs": [],
   "source": [
    "t = pygtrie.StringTrie()"
   ]
  },
  {
   "cell_type": "code",
   "execution_count": 7,
   "metadata": {},
   "outputs": [],
   "source": [
    "for line in lookup_table[1:]:\n",
    "    l = line.split(\"\\t\")\n",
    "    varid = l[2]\n",
    "    rsid  = l[5]\n",
    "    chrom = l[0]\n",
    "    t[varid] = [chrom, rsid]"
   ]
  },
  {
   "cell_type": "code",
   "execution_count": 6,
   "metadata": {},
   "outputs": [
    {
     "name": "stdout",
     "output_type": "stream",
     "text": [
      "variant_id\tgene_id\ttss_distance\tma_samples\tma_count\tmaf\tpval_nominal\tslope\tslope_se\tpval_nominal_threshold\tmin_pval_nominal\tpval_beta\n",
      "\n"
     ]
    }
   ],
   "source": [
    "print(f[0])"
   ]
  },
  {
   "cell_type": "code",
   "execution_count": 15,
   "metadata": {},
   "outputs": [],
   "source": [
    "out = open(\"processed_gtex_cis.txt\",\"w\")\n",
    "no_translation = open(\"varid_no_translation.txt\",\"w\")"
   ]
  },
  {
   "cell_type": "code",
   "execution_count": 16,
   "metadata": {},
   "outputs": [],
   "source": [
    "out.write(\"chrom\\trsid\\tmaf\\tgeneid\\tpval\")\n",
    "for line in f[1:]:\n",
    "    l = line.split(\"\\t\")\n",
    "    varid = l[0]\n",
    "    geneid = l[1]\n",
    "    maf = l[5]\n",
    "    pval = l[6]\n",
    "    try:\n",
    "        translation = t[varid]\n",
    "    except:\n",
    "        no_translation.write(varid + \"\\n\")\n",
    "        continue\n",
    "    out.write(\"\\n\" + translation[0] + \"\\t\" + translation[1] + \"\\t\" + maf + \"\\t\" + geneid + \"\\t\" + pval)"
   ]
  },
  {
   "cell_type": "code",
   "execution_count": 17,
   "metadata": {},
   "outputs": [],
   "source": [
    "out.close()\n",
    "no_translation.close()"
   ]
  },
  {
   "cell_type": "code",
   "execution_count": null,
   "metadata": {},
   "outputs": [],
   "source": []
  }
 ],
 "metadata": {
  "kernelspec": {
   "display_name": "Python 3",
   "language": "python",
   "name": "python3"
  },
  "language_info": {
   "codemirror_mode": {
    "name": "ipython",
    "version": 3
   },
   "file_extension": ".py",
   "mimetype": "text/x-python",
   "name": "python",
   "nbconvert_exporter": "python",
   "pygments_lexer": "ipython3",
   "version": "3.6.4"
  }
 },
 "nbformat": 4,
 "nbformat_minor": 2
}
