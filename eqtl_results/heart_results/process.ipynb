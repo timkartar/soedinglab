{
 "cells": [
  {
   "cell_type": "code",
   "execution_count": 1,
   "metadata": {},
   "outputs": [],
   "source": [
    "import numpy as np"
   ]
  },
  {
   "cell_type": "code",
   "execution_count": 15,
   "metadata": {},
   "outputs": [],
   "source": [
    "f = open(\"/home/raktim/eqtl_results/heart_results/FHS_gene_lead_eQTLs.txt\",\"r\").read()\n",
    "f = f.split(\"\\n\")"
   ]
  },
  {
   "cell_type": "code",
   "execution_count": 3,
   "metadata": {},
   "outputs": [
    {
     "data": {
      "text/plain": [
       "'Max(Is_Cis),Transcript_Cluster_ID,Marker,Rs_ID,IndexOfLV,LV_SR_marker_primary_LV\\n'"
      ]
     },
     "execution_count": 3,
     "metadata": {},
     "output_type": "execute_result"
    }
   ],
   "source": [
    "f[0]"
   ]
  },
  {
   "cell_type": "code",
   "execution_count": 34,
   "metadata": {},
   "outputs": [],
   "source": [
    "out = open(\"processed_fhs_results_cis_only_rsid.txt\", \"w\")"
   ]
  },
  {
   "cell_type": "code",
   "execution_count": 35,
   "metadata": {},
   "outputs": [
    {
     "name": "stdout",
     "output_type": "stream",
     "text": [
      "['Max(Is_Cis),Transcript_Cluster_ID,Marker,Rs_ID,IndexOfLV,LV_SR_marker_primary_LV', '', '1,2396009,1:10004882,rs1220422,1,1:10004882', '', '1,2348634,1:100303030,rs10875271,1,1:100303030', '', '1,2425118,1:100416755,rs112024359,1,1:100416755', '', '1,2348792,1:100445607,rs11166386,1,1:100445607', '']\n"
     ]
    }
   ],
   "source": [
    "out.write(\"rsid\")\n",
    "print(f[:10])\n",
    "for line in f[1:]:\n",
    "    l = line.split(\",\")\n",
    "    try:\n",
    "        is_cis = int(l[0])\n",
    "        rsid = l[3]\n",
    "        if(is_cis):\n",
    "            out.write(\"\\n\" + rsid)\n",
    "            is_cis = 0\n",
    "    except:\n",
    "        continue\n",
    "    "
   ]
  },
  {
   "cell_type": "code",
   "execution_count": 36,
   "metadata": {},
   "outputs": [],
   "source": [
    "out.close()"
   ]
  },
  {
   "cell_type": "code",
   "execution_count": 40,
   "metadata": {},
   "outputs": [],
   "source": [
    "out = open(\"processed_fhs_results_cis_only_rsid.txt\", \"r\").readlines()\n",
    "out[1]\n",
    "s = list([x for x in out if x != \"\\n\"])\n"
   ]
  },
  {
   "cell_type": "code",
   "execution_count": 41,
   "metadata": {},
   "outputs": [
    {
     "data": {
      "text/plain": [
       "194969"
      ]
     },
     "execution_count": 41,
     "metadata": {},
     "output_type": "execute_result"
    }
   ],
   "source": [
    "out = open(\"processed_fhs_results_cis_only_rsid.txt\", \"w\")\n",
    "out.write(\"\".join(s))"
   ]
  },
  {
   "cell_type": "code",
   "execution_count": null,
   "metadata": {},
   "outputs": [],
   "source": []
  }
 ],
 "metadata": {
  "kernelspec": {
   "display_name": "Python 3",
   "language": "python",
   "name": "python3"
  },
  "language_info": {
   "codemirror_mode": {
    "name": "ipython",
    "version": 3
   },
   "file_extension": ".py",
   "mimetype": "text/x-python",
   "name": "python",
   "nbconvert_exporter": "python",
   "pygments_lexer": "ipython3",
   "version": "3.6.4"
  }
 },
 "nbformat": 4,
 "nbformat_minor": 2
}
